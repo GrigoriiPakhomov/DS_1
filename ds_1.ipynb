{
 "cells": [
  {
   "cell_type": "markdown",
   "metadata": {
    "id": "E0vqbgi9ay0H"
   },
   "source": [
    "# Яндекс.Музыка"
   ]
  },
  {
   "cell_type": "markdown",
   "metadata": {
    "id": "VUC88oWjTJw2"
   },
   "source": [
    "Сравнение Москвы и Петербурга окружено мифами. Например:\n",
    " * Москва — мегаполис, подчинённый жёсткому ритму рабочей недели;\n",
    " * Петербург — культурная столица, со своими вкусами.\n",
    "\n",
    "На данных Яндекс.Музыки вы сравните поведение пользователей двух столиц.\n",
    "\n",
    "**Цель исследования** — проверьте три гипотезы:\n",
    "1. Активность пользователей зависит от дня недели. Причём в Москве и Петербурге это проявляется по-разному.\n",
    "2. В понедельник утром в Москве преобладают одни жанры, а в Петербурге — другие. Так же и вечером пятницы преобладают разные жанры — в зависимости от города. \n",
    "3. Москва и Петербург предпочитают разные жанры музыки. В Москве чаще слушают поп-музыку, в Петербурге — русский рэп.\n",
    "\n",
    "**Ход исследования**\n",
    "\n",
    "Данные о поведении пользователей вы получите из файла `yandex_music_project.csv`. О качестве данных ничего не известно. Поэтому перед проверкой гипотез понадобится обзор данных. \n",
    "\n",
    "Вы проверите данные на ошибки и оцените их влияние на исследование. Затем, на этапе предобработки вы поищете возможность исправить самые критичные ошибки данных.\n",
    " \n",
    "Таким образом, исследование пройдёт в три этапа:\n",
    " 1. Обзор данных.\n",
    " 2. Предобработка данных.\n",
    " 3. Проверка гипотез.\n",
    "\n"
   ]
  },
  {
   "cell_type": "markdown",
   "metadata": {
    "id": "Ml1hmfXC_Zcs"
   },
   "source": [
    "## Обзор данных\n",
    "\n",
    "Составьте первое представление о данных Яндекс.Музыки.\n",
    "\n",
    "\n"
   ]
  },
  {
   "cell_type": "markdown",
   "metadata": {
    "id": "57eAOGIz_Zcs"
   },
   "source": [
    "Основной инструмент аналитика — `pandas`. Импортируйте эту библиотеку."
   ]
  },
  {
   "cell_type": "code",
   "execution_count": 1,
   "metadata": {
    "id": "AXN7PHPN_Zcs"
   },
   "outputs": [],
   "source": [
    "# импорт библиотеки pandas\n",
    "import pandas as pd"
   ]
  },
  {
   "cell_type": "markdown",
   "metadata": {
    "id": "SG23P8tt_Zcs"
   },
   "source": [
    "Прочитайте файл `yandex_music_project.csv` из папки `/datasets` и сохраните его в переменной `df`:"
   ]
  },
  {
   "cell_type": "code",
   "execution_count": 2,
   "metadata": {
    "id": "fFVu7vqh_Zct"
   },
   "outputs": [],
   "source": [
    "# чтение файла с данными и сохранение в df\n",
    "df = pd.read_csv('/datasets/yandex_music_project.csv')"
   ]
  },
  {
   "cell_type": "markdown",
   "metadata": {
    "id": "rDoOMd3uTqnZ"
   },
   "source": [
    "Выведите на экран первые десять строк таблицы:"
   ]
  },
  {
   "cell_type": "code",
   "execution_count": 3,
   "metadata": {
    "id": "oWTVX3gW_Zct"
   },
   "outputs": [
    {
     "data": {
      "text/html": [
       "<div>\n",
       "<style scoped>\n",
       "    .dataframe tbody tr th:only-of-type {\n",
       "        vertical-align: middle;\n",
       "    }\n",
       "\n",
       "    .dataframe tbody tr th {\n",
       "        vertical-align: top;\n",
       "    }\n",
       "\n",
       "    .dataframe thead th {\n",
       "        text-align: right;\n",
       "    }\n",
       "</style>\n",
       "<table border=\"1\" class=\"dataframe\">\n",
       "  <thead>\n",
       "    <tr style=\"text-align: right;\">\n",
       "      <th></th>\n",
       "      <th>userID</th>\n",
       "      <th>Track</th>\n",
       "      <th>artist</th>\n",
       "      <th>genre</th>\n",
       "      <th>City</th>\n",
       "      <th>time</th>\n",
       "      <th>Day</th>\n",
       "    </tr>\n",
       "  </thead>\n",
       "  <tbody>\n",
       "    <tr>\n",
       "      <td>0</td>\n",
       "      <td>FFB692EC</td>\n",
       "      <td>Kamigata To Boots</td>\n",
       "      <td>The Mass Missile</td>\n",
       "      <td>rock</td>\n",
       "      <td>Saint-Petersburg</td>\n",
       "      <td>20:28:33</td>\n",
       "      <td>Wednesday</td>\n",
       "    </tr>\n",
       "    <tr>\n",
       "      <td>1</td>\n",
       "      <td>55204538</td>\n",
       "      <td>Delayed Because of Accident</td>\n",
       "      <td>Andreas Rönnberg</td>\n",
       "      <td>rock</td>\n",
       "      <td>Moscow</td>\n",
       "      <td>14:07:09</td>\n",
       "      <td>Friday</td>\n",
       "    </tr>\n",
       "    <tr>\n",
       "      <td>2</td>\n",
       "      <td>20EC38</td>\n",
       "      <td>Funiculì funiculà</td>\n",
       "      <td>Mario Lanza</td>\n",
       "      <td>pop</td>\n",
       "      <td>Saint-Petersburg</td>\n",
       "      <td>20:58:07</td>\n",
       "      <td>Wednesday</td>\n",
       "    </tr>\n",
       "    <tr>\n",
       "      <td>3</td>\n",
       "      <td>A3DD03C9</td>\n",
       "      <td>Dragons in the Sunset</td>\n",
       "      <td>Fire + Ice</td>\n",
       "      <td>folk</td>\n",
       "      <td>Saint-Petersburg</td>\n",
       "      <td>08:37:09</td>\n",
       "      <td>Monday</td>\n",
       "    </tr>\n",
       "    <tr>\n",
       "      <td>4</td>\n",
       "      <td>E2DC1FAE</td>\n",
       "      <td>Soul People</td>\n",
       "      <td>Space Echo</td>\n",
       "      <td>dance</td>\n",
       "      <td>Moscow</td>\n",
       "      <td>08:34:34</td>\n",
       "      <td>Monday</td>\n",
       "    </tr>\n",
       "    <tr>\n",
       "      <td>5</td>\n",
       "      <td>842029A1</td>\n",
       "      <td>Преданная</td>\n",
       "      <td>IMPERVTOR</td>\n",
       "      <td>rusrap</td>\n",
       "      <td>Saint-Petersburg</td>\n",
       "      <td>13:09:41</td>\n",
       "      <td>Friday</td>\n",
       "    </tr>\n",
       "    <tr>\n",
       "      <td>6</td>\n",
       "      <td>4CB90AA5</td>\n",
       "      <td>True</td>\n",
       "      <td>Roman Messer</td>\n",
       "      <td>dance</td>\n",
       "      <td>Moscow</td>\n",
       "      <td>13:00:07</td>\n",
       "      <td>Wednesday</td>\n",
       "    </tr>\n",
       "    <tr>\n",
       "      <td>7</td>\n",
       "      <td>F03E1C1F</td>\n",
       "      <td>Feeling This Way</td>\n",
       "      <td>Polina Griffith</td>\n",
       "      <td>dance</td>\n",
       "      <td>Moscow</td>\n",
       "      <td>20:47:49</td>\n",
       "      <td>Wednesday</td>\n",
       "    </tr>\n",
       "    <tr>\n",
       "      <td>8</td>\n",
       "      <td>8FA1D3BE</td>\n",
       "      <td>И вновь продолжается бой</td>\n",
       "      <td>NaN</td>\n",
       "      <td>ruspop</td>\n",
       "      <td>Moscow</td>\n",
       "      <td>09:17:40</td>\n",
       "      <td>Friday</td>\n",
       "    </tr>\n",
       "    <tr>\n",
       "      <td>9</td>\n",
       "      <td>E772D5C0</td>\n",
       "      <td>Pessimist</td>\n",
       "      <td>NaN</td>\n",
       "      <td>dance</td>\n",
       "      <td>Saint-Petersburg</td>\n",
       "      <td>21:20:49</td>\n",
       "      <td>Wednesday</td>\n",
       "    </tr>\n",
       "  </tbody>\n",
       "</table>\n",
       "</div>"
      ],
      "text/plain": [
       "     userID                        Track            artist   genre  \\\n",
       "0  FFB692EC            Kamigata To Boots  The Mass Missile    rock   \n",
       "1  55204538  Delayed Because of Accident  Andreas Rönnberg    rock   \n",
       "2    20EC38            Funiculì funiculà       Mario Lanza     pop   \n",
       "3  A3DD03C9        Dragons in the Sunset        Fire + Ice    folk   \n",
       "4  E2DC1FAE                  Soul People        Space Echo   dance   \n",
       "5  842029A1                    Преданная         IMPERVTOR  rusrap   \n",
       "6  4CB90AA5                         True      Roman Messer   dance   \n",
       "7  F03E1C1F             Feeling This Way   Polina Griffith   dance   \n",
       "8  8FA1D3BE     И вновь продолжается бой               NaN  ruspop   \n",
       "9  E772D5C0                    Pessimist               NaN   dance   \n",
       "\n",
       "             City        time        Day  \n",
       "0  Saint-Petersburg  20:28:33  Wednesday  \n",
       "1            Moscow  14:07:09     Friday  \n",
       "2  Saint-Petersburg  20:58:07  Wednesday  \n",
       "3  Saint-Petersburg  08:37:09     Monday  \n",
       "4            Moscow  08:34:34     Monday  \n",
       "5  Saint-Petersburg  13:09:41     Friday  \n",
       "6            Moscow  13:00:07  Wednesday  \n",
       "7            Moscow  20:47:49  Wednesday  \n",
       "8            Moscow  09:17:40     Friday  \n",
       "9  Saint-Petersburg  21:20:49  Wednesday  "
      ]
     },
     "execution_count": 3,
     "metadata": {},
     "output_type": "execute_result"
    }
   ],
   "source": [
    "# получение первых 10 строк таблицы df\n",
    "df.head(10)"
   ]
  },
  {
   "cell_type": "code",
   "execution_count": 4,
   "metadata": {},
   "outputs": [
    {
     "data": {
      "text/html": [
       "<div>\n",
       "<style scoped>\n",
       "    .dataframe tbody tr th:only-of-type {\n",
       "        vertical-align: middle;\n",
       "    }\n",
       "\n",
       "    .dataframe tbody tr th {\n",
       "        vertical-align: top;\n",
       "    }\n",
       "\n",
       "    .dataframe thead th {\n",
       "        text-align: right;\n",
       "    }\n",
       "</style>\n",
       "<table border=\"1\" class=\"dataframe\">\n",
       "  <thead>\n",
       "    <tr style=\"text-align: right;\">\n",
       "      <th></th>\n",
       "      <th>userID</th>\n",
       "      <th>Track</th>\n",
       "      <th>artist</th>\n",
       "      <th>genre</th>\n",
       "      <th>City</th>\n",
       "      <th>time</th>\n",
       "      <th>Day</th>\n",
       "    </tr>\n",
       "  </thead>\n",
       "  <tbody>\n",
       "    <tr>\n",
       "      <td>0</td>\n",
       "      <td>FFB692EC</td>\n",
       "      <td>Kamigata To Boots</td>\n",
       "      <td>The Mass Missile</td>\n",
       "      <td>rock</td>\n",
       "      <td>Saint-Petersburg</td>\n",
       "      <td>20:28:33</td>\n",
       "      <td>Wednesday</td>\n",
       "    </tr>\n",
       "    <tr>\n",
       "      <td>1</td>\n",
       "      <td>55204538</td>\n",
       "      <td>Delayed Because of Accident</td>\n",
       "      <td>Andreas Rönnberg</td>\n",
       "      <td>rock</td>\n",
       "      <td>Moscow</td>\n",
       "      <td>14:07:09</td>\n",
       "      <td>Friday</td>\n",
       "    </tr>\n",
       "    <tr>\n",
       "      <td>2</td>\n",
       "      <td>20EC38</td>\n",
       "      <td>Funiculì funiculà</td>\n",
       "      <td>Mario Lanza</td>\n",
       "      <td>pop</td>\n",
       "      <td>Saint-Petersburg</td>\n",
       "      <td>20:58:07</td>\n",
       "      <td>Wednesday</td>\n",
       "    </tr>\n",
       "    <tr>\n",
       "      <td>3</td>\n",
       "      <td>A3DD03C9</td>\n",
       "      <td>Dragons in the Sunset</td>\n",
       "      <td>Fire + Ice</td>\n",
       "      <td>folk</td>\n",
       "      <td>Saint-Petersburg</td>\n",
       "      <td>08:37:09</td>\n",
       "      <td>Monday</td>\n",
       "    </tr>\n",
       "    <tr>\n",
       "      <td>4</td>\n",
       "      <td>E2DC1FAE</td>\n",
       "      <td>Soul People</td>\n",
       "      <td>Space Echo</td>\n",
       "      <td>dance</td>\n",
       "      <td>Moscow</td>\n",
       "      <td>08:34:34</td>\n",
       "      <td>Monday</td>\n",
       "    </tr>\n",
       "    <tr>\n",
       "      <td>5</td>\n",
       "      <td>842029A1</td>\n",
       "      <td>Преданная</td>\n",
       "      <td>IMPERVTOR</td>\n",
       "      <td>rusrap</td>\n",
       "      <td>Saint-Petersburg</td>\n",
       "      <td>13:09:41</td>\n",
       "      <td>Friday</td>\n",
       "    </tr>\n",
       "    <tr>\n",
       "      <td>6</td>\n",
       "      <td>4CB90AA5</td>\n",
       "      <td>True</td>\n",
       "      <td>Roman Messer</td>\n",
       "      <td>dance</td>\n",
       "      <td>Moscow</td>\n",
       "      <td>13:00:07</td>\n",
       "      <td>Wednesday</td>\n",
       "    </tr>\n",
       "    <tr>\n",
       "      <td>7</td>\n",
       "      <td>F03E1C1F</td>\n",
       "      <td>Feeling This Way</td>\n",
       "      <td>Polina Griffith</td>\n",
       "      <td>dance</td>\n",
       "      <td>Moscow</td>\n",
       "      <td>20:47:49</td>\n",
       "      <td>Wednesday</td>\n",
       "    </tr>\n",
       "    <tr>\n",
       "      <td>8</td>\n",
       "      <td>8FA1D3BE</td>\n",
       "      <td>И вновь продолжается бой</td>\n",
       "      <td>NaN</td>\n",
       "      <td>ruspop</td>\n",
       "      <td>Moscow</td>\n",
       "      <td>09:17:40</td>\n",
       "      <td>Friday</td>\n",
       "    </tr>\n",
       "    <tr>\n",
       "      <td>9</td>\n",
       "      <td>E772D5C0</td>\n",
       "      <td>Pessimist</td>\n",
       "      <td>NaN</td>\n",
       "      <td>dance</td>\n",
       "      <td>Saint-Petersburg</td>\n",
       "      <td>21:20:49</td>\n",
       "      <td>Wednesday</td>\n",
       "    </tr>\n",
       "  </tbody>\n",
       "</table>\n",
       "</div>"
      ],
      "text/plain": [
       "     userID                        Track            artist   genre  \\\n",
       "0  FFB692EC            Kamigata To Boots  The Mass Missile    rock   \n",
       "1  55204538  Delayed Because of Accident  Andreas Rönnberg    rock   \n",
       "2    20EC38            Funiculì funiculà       Mario Lanza     pop   \n",
       "3  A3DD03C9        Dragons in the Sunset        Fire + Ice    folk   \n",
       "4  E2DC1FAE                  Soul People        Space Echo   dance   \n",
       "5  842029A1                    Преданная         IMPERVTOR  rusrap   \n",
       "6  4CB90AA5                         True      Roman Messer   dance   \n",
       "7  F03E1C1F             Feeling This Way   Polina Griffith   dance   \n",
       "8  8FA1D3BE     И вновь продолжается бой               NaN  ruspop   \n",
       "9  E772D5C0                    Pessimist               NaN   dance   \n",
       "\n",
       "             City        time        Day  \n",
       "0  Saint-Petersburg  20:28:33  Wednesday  \n",
       "1            Moscow  14:07:09     Friday  \n",
       "2  Saint-Petersburg  20:58:07  Wednesday  \n",
       "3  Saint-Petersburg  08:37:09     Monday  \n",
       "4            Moscow  08:34:34     Monday  \n",
       "5  Saint-Petersburg  13:09:41     Friday  \n",
       "6            Moscow  13:00:07  Wednesday  \n",
       "7            Moscow  20:47:49  Wednesday  \n",
       "8            Moscow  09:17:40     Friday  \n",
       "9  Saint-Petersburg  21:20:49  Wednesday  "
      ]
     },
     "execution_count": 4,
     "metadata": {},
     "output_type": "execute_result"
    }
   ],
   "source": [
    "\n",
    "df.head(10)"
   ]
  },
  {
   "cell_type": "markdown",
   "metadata": {
    "id": "EO73Kwic_Zct"
   },
   "source": [
    "Одной командой получить общую информацию о таблице:"
   ]
  },
  {
   "cell_type": "code",
   "execution_count": 5,
   "metadata": {
    "id": "DSf2kIb-_Zct"
   },
   "outputs": [
    {
     "name": "stdout",
     "output_type": "stream",
     "text": [
      "<class 'pandas.core.frame.DataFrame'>\n",
      "RangeIndex: 65079 entries, 0 to 65078\n",
      "Data columns (total 7 columns):\n",
      "  userID    65079 non-null object\n",
      "Track       63848 non-null object\n",
      "artist      57876 non-null object\n",
      "genre       63881 non-null object\n",
      "  City      65079 non-null object\n",
      "time        65079 non-null object\n",
      "Day         65079 non-null object\n",
      "dtypes: object(7)\n",
      "memory usage: 3.5+ MB\n"
     ]
    }
   ],
   "source": [
    "# получение общей информации о данных в таблице df\n",
    "df.info()"
   ]
  },
  {
   "cell_type": "markdown",
   "metadata": {
    "id": "TaQ2Iwbr_Zct"
   },
   "source": [
    "Итак, в таблице семь столбцов. Тип данных во всех столбцах — `object`.\n",
    "\n",
    "Согласно документации к данным:\n",
    "* `userID` — идентификатор пользователя;\n",
    "* `Track` — название трека;  \n",
    "* `artist` — имя исполнителя;\n",
    "* `genre` — название жанра;\n",
    "* `City` — город пользователя;\n",
    "* `time` — время начала прослушивания;\n",
    "* `Day` — день недели.\n",
    "\n",
    "В названиях колонок видны три нарушения стиля:\n",
    "1. Строчные буквы сочетаются с прописными.\n",
    "2. Встречаются пробелы.\n",
    "3. Найдите ещё одну проблему в названии колонок и опишите её в этом пункте.\n",
    "\n",
    "Комментарий студента v2: 3. несколько слов в названии, userID написан прописными и строчными буквами, какой третий вариант может быть  - я просто не понимаю) далее я его переименовываю в user_id потому что это два разных слова и написаны они строчными и прописными.\n",
    "Комментарий студента v3: третьей проблемой является то, что в названиях колонок используются разные регистры. В нашем случае, нужно использовать одинаковый регистр для всех названий - а именно змиеный регистр, где все строчные буквы и вместо пробелов нижнее подчеркивание\n",
    "\n",
    "Количество значений в столбцах различается. Значит, в данных есть пропущенные значения.\n"
   ]
  },
  {
   "cell_type": "markdown",
   "metadata": {
    "id": "MCB6-dXG_Zct"
   },
   "source": [
    "**Выводы**\n",
    "\n",
    "В каждой строке таблицы — данные о прослушанном треке. Часть колонок описывает саму композицию: название, исполнителя и жанр. Остальные данные рассказывают о пользователе: из какого он города, когда он слушал музыку. \n",
    "\n",
    "Предварительно можно утверждать, что, данных достаточно для проверки гипотез. Но встречаются пропуски в данных, а в названиях колонок — расхождения с хорошим стилем.\n",
    "\n",
    "Чтобы двигаться дальше, нужно устранить проблемы в данных."
   ]
  },
  {
   "cell_type": "markdown",
   "metadata": {
    "id": "SjYF6Ub9_Zct"
   },
   "source": [
    "## Предобработка данных\n",
    "Исправьте стиль в заголовках столбцов, исключите пропуски. Затем проверьте данные на дубликаты."
   ]
  },
  {
   "cell_type": "markdown",
   "metadata": {
    "id": "dIaKXr29_Zct"
   },
   "source": [
    "### Стиль заголовков\n",
    "Выведите на экран названия столбцов:"
   ]
  },
  {
   "cell_type": "code",
   "execution_count": 6,
   "metadata": {
    "id": "oKOTdF_Q_Zct"
   },
   "outputs": [
    {
     "data": {
      "text/plain": [
       "Index(['  userID', 'Track', 'artist', 'genre', '  City  ', 'time', 'Day'], dtype='object')"
      ]
     },
     "execution_count": 6,
     "metadata": {},
     "output_type": "execute_result"
    }
   ],
   "source": [
    "# перечень названий столбцов таблицы df\n",
    "df.columns"
   ]
  },
  {
   "cell_type": "markdown",
   "metadata": {
    "id": "zj5534cv_Zct"
   },
   "source": [
    "Приведите названия в соответствие с хорошим стилем:\n",
    "* несколько слов в названии запишите в «змеином_регистре»,\n",
    "* все символы сделайте строчными,\n",
    "* устраните пробелы.\n",
    "\n",
    "Для этого переименуйте колонки так:\n",
    "* `'  userID'` → `'user_id'`;\n",
    "* `'Track'` → `'track'`;\n",
    "* `'  City  '` → `'city'`;\n",
    "* `'Day'` → `'day'`."
   ]
  },
  {
   "cell_type": "code",
   "execution_count": 7,
   "metadata": {
    "id": "ISlFqs5y_Zct"
   },
   "outputs": [],
   "source": [
    "# переименование столбцов\n",
    "df = df.rename(columns = {'  userID': 'user_id', 'Track': 'track', '  City  ': 'city', 'Day': 'day'})"
   ]
  },
  {
   "cell_type": "markdown",
   "metadata": {
    "id": "1dqbh00J_Zct"
   },
   "source": [
    "Проверьте результат. Для этого ещё раз выведите на экран названия столбцов:"
   ]
  },
  {
   "cell_type": "code",
   "execution_count": 8,
   "metadata": {
    "id": "d4NOAmTW_Zct"
   },
   "outputs": [
    {
     "data": {
      "text/plain": [
       "Index(['user_id', 'track', 'artist', 'genre', 'city', 'time', 'day'], dtype='object')"
      ]
     },
     "execution_count": 8,
     "metadata": {},
     "output_type": "execute_result"
    }
   ],
   "source": [
    "# проверка результатов - перечень названий столбцов\n",
    "df.columns"
   ]
  },
  {
   "cell_type": "markdown",
   "metadata": {
    "id": "5ISfbcfY_Zct"
   },
   "source": [
    "### Пропуски значений\n",
    "Сначала посчитайте, сколько в таблице пропущенных значений. Для этого достаточно двух методов `pandas`:"
   ]
  },
  {
   "cell_type": "code",
   "execution_count": 9,
   "metadata": {
    "id": "RskX29qr_Zct"
   },
   "outputs": [
    {
     "data": {
      "text/plain": [
       "user_id       0\n",
       "track      1231\n",
       "artist     7203\n",
       "genre      1198\n",
       "city          0\n",
       "time          0\n",
       "day           0\n",
       "dtype: int64"
      ]
     },
     "execution_count": 9,
     "metadata": {},
     "output_type": "execute_result"
    }
   ],
   "source": [
    "# подсчёт пропусков\n",
    "df.isna().sum()"
   ]
  },
  {
   "cell_type": "markdown",
   "metadata": {
    "id": "qubhgnlO_Zct"
   },
   "source": [
    "Не все пропущенные значения влияют на исследование. Так в `track` и `artist` пропуски не важны для вашей работы. Достаточно заменить их явными обозначениями.\n",
    "\n",
    "Но пропуски в `genre` могут помешать сравнению музыкальных вкусов в Москве и Санкт-Петербурге. На практике было бы правильно установить причину пропусков и восстановить данные. Такой возможности нет в учебном проекте. Придётся:\n",
    "* заполнить и эти пропуски явными обозначениями,\n",
    "* оценить, насколько они повредят расчётам. "
   ]
  },
  {
   "cell_type": "markdown",
   "metadata": {
    "id": "fSv2laPA_Zct"
   },
   "source": [
    "Замените пропущенные значения в столбцах `track`, `artist` и `genre` на строку `'unknown'`. Для этого создайте список `columns_to_replace`, переберите его элементы циклом `for` и для каждого столбца выполните замену пропущенных значений:"
   ]
  },
  {
   "cell_type": "code",
   "execution_count": 10,
   "metadata": {
    "id": "KplB5qWs_Zct"
   },
   "outputs": [],
   "source": [
    "columns_to_replace = ['track', 'artist', 'genre']\n",
    "for column in columns_to_replace:\n",
    "    df[column] = df[column].fillna('unknown')# перебор названий столбцов в цикле и замена пропущенных значений на 'unknown'"
   ]
  },
  {
   "cell_type": "markdown",
   "metadata": {
    "id": "Ilsm-MZo_Zct"
   },
   "source": [
    "Убедитесь, что в таблице не осталось пропусков. Для этого ещё раз посчитайте пропущенные значения."
   ]
  },
  {
   "cell_type": "code",
   "execution_count": 11,
   "metadata": {
    "id": "Tq4nYRX4_Zct"
   },
   "outputs": [
    {
     "data": {
      "text/plain": [
       "user_id    0\n",
       "track      0\n",
       "artist     0\n",
       "genre      0\n",
       "city       0\n",
       "time       0\n",
       "day        0\n",
       "dtype: int64"
      ]
     },
     "execution_count": 11,
     "metadata": {},
     "output_type": "execute_result"
    }
   ],
   "source": [
    "# подсчёт пропусков\n",
    "df.isna().sum()"
   ]
  },
  {
   "cell_type": "markdown",
   "metadata": {
    "id": "BWKRtBJ3_Zct"
   },
   "source": [
    "### Дубликаты\n",
    "Посчитайте явные дубликаты в таблице одной командой:"
   ]
  },
  {
   "cell_type": "code",
   "execution_count": 12,
   "metadata": {
    "id": "36eES_S0_Zct"
   },
   "outputs": [
    {
     "data": {
      "text/plain": [
       "3826"
      ]
     },
     "execution_count": 12,
     "metadata": {},
     "output_type": "execute_result"
    }
   ],
   "source": [
    "# подсчёт явных дубликатов\n",
    "df.duplicated().sum()"
   ]
  },
  {
   "cell_type": "markdown",
   "metadata": {
    "id": "Ot25h6XR_Zct"
   },
   "source": [
    "Вызовите специальный метод `pandas`, чтобы удалить явные дубликаты:"
   ]
  },
  {
   "cell_type": "code",
   "execution_count": 13,
   "metadata": {
    "id": "exFHq6tt_Zct"
   },
   "outputs": [],
   "source": [
    "# удаление явных дубликатов (с удалением старых индексов и формированием новых)\n",
    "df = df.drop_duplicates().reset_index(drop=True)"
   ]
  },
  {
   "cell_type": "markdown",
   "metadata": {
    "id": "Im2YwBEG_Zct"
   },
   "source": [
    "Ещё раз посчитайте явные дубликаты в таблице — убедитесь, что полностью от них избавились:"
   ]
  },
  {
   "cell_type": "code",
   "execution_count": 14,
   "metadata": {
    "id": "-8PuNWQ0_Zct"
   },
   "outputs": [
    {
     "data": {
      "text/plain": [
       "0"
      ]
     },
     "execution_count": 14,
     "metadata": {},
     "output_type": "execute_result"
    }
   ],
   "source": [
    "# проверка на отсутствие дубликатов\n",
    "df.duplicated().sum()"
   ]
  },
  {
   "cell_type": "markdown",
   "metadata": {
    "id": "QlFBsxAr_Zct"
   },
   "source": [
    "Теперь избавьтесь от неявных дубликатов в колонке `genre`. Например, название одного и того же жанра может быть записано немного по-разному. Такие ошибки тоже повлияют на результат исследования."
   ]
  },
  {
   "cell_type": "markdown",
   "metadata": {
    "id": "eSjWwsOh_Zct"
   },
   "source": [
    "Выведите на экран список уникальных названий жанров, отсортированный в алфавитном порядке. Для этого:\n",
    "* извлеките нужный столбец датафрейма, \n",
    "* примените к нему метод сортировки,\n",
    "* для отсортированного столбца вызовите метод, который вернёт уникальные значения из столбца."
   ]
  },
  {
   "cell_type": "code",
   "execution_count": 15,
   "metadata": {
    "id": "JIUcqzZN_Zct"
   },
   "outputs": [
    {
     "data": {
      "text/plain": [
       "array(['acid', 'acoustic', 'action', 'adult', 'africa', 'afrikaans',\n",
       "       'alternative', 'alternativepunk', 'ambient', 'americana',\n",
       "       'animated', 'anime', 'arabesk', 'arabic', 'arena',\n",
       "       'argentinetango', 'art', 'audiobook', 'author', 'avantgarde',\n",
       "       'axé', 'baile', 'balkan', 'beats', 'bigroom', 'black', 'bluegrass',\n",
       "       'blues', 'bollywood', 'bossa', 'brazilian', 'breakbeat', 'breaks',\n",
       "       'broadway', 'cantautori', 'cantopop', 'canzone', 'caribbean',\n",
       "       'caucasian', 'celtic', 'chamber', 'chanson', 'children', 'chill',\n",
       "       'chinese', 'choral', 'christian', 'christmas', 'classical',\n",
       "       'classicmetal', 'club', 'colombian', 'comedy', 'conjazz',\n",
       "       'contemporary', 'country', 'cuban', 'dance', 'dancehall',\n",
       "       'dancepop', 'dark', 'death', 'deep', 'deutschrock', 'deutschspr',\n",
       "       'dirty', 'disco', 'dnb', 'documentary', 'downbeat', 'downtempo',\n",
       "       'drum', 'dub', 'dubstep', 'eastern', 'easy', 'electronic',\n",
       "       'electropop', 'emo', 'entehno', 'epicmetal', 'estrada', 'ethnic',\n",
       "       'eurofolk', 'european', 'experimental', 'extrememetal', 'fado',\n",
       "       'fairytail', 'film', 'fitness', 'flamenco', 'folk', 'folklore',\n",
       "       'folkmetal', 'folkrock', 'folktronica', 'forró', 'frankreich',\n",
       "       'französisch', 'french', 'funk', 'future', 'gangsta', 'garage',\n",
       "       'german', 'ghazal', 'gitarre', 'glitch', 'gospel', 'gothic',\n",
       "       'grime', 'grunge', 'gypsy', 'handsup', \"hard'n'heavy\", 'hardcore',\n",
       "       'hardstyle', 'hardtechno', 'hip', 'hip-hop', 'hiphop',\n",
       "       'historisch', 'holiday', 'hop', 'horror', 'house', 'hymn', 'idm',\n",
       "       'independent', 'indian', 'indie', 'indipop', 'industrial',\n",
       "       'inspirational', 'instrumental', 'international', 'irish', 'jam',\n",
       "       'japanese', 'jazz', 'jewish', 'jpop', 'jungle', 'k-pop',\n",
       "       'karadeniz', 'karaoke', 'kayokyoku', 'korean', 'laiko', 'latin',\n",
       "       'latino', 'leftfield', 'local', 'lounge', 'loungeelectronic',\n",
       "       'lovers', 'malaysian', 'mandopop', 'marschmusik', 'meditative',\n",
       "       'mediterranean', 'melodic', 'metal', 'metalcore', 'mexican',\n",
       "       'middle', 'minimal', 'miscellaneous', 'modern', 'mood', 'mpb',\n",
       "       'muslim', 'native', 'neoklassik', 'neue', 'new', 'newage',\n",
       "       'newwave', 'nu', 'nujazz', 'numetal', 'oceania', 'old', 'opera',\n",
       "       'orchestral', 'other', 'piano', 'podcasts', 'pop', 'popdance',\n",
       "       'popelectronic', 'popeurodance', 'poprussian', 'post',\n",
       "       'posthardcore', 'postrock', 'power', 'progmetal', 'progressive',\n",
       "       'psychedelic', 'punjabi', 'punk', 'quebecois', 'ragga', 'ram',\n",
       "       'rancheras', 'rap', 'rave', 'reggae', 'reggaeton', 'regional',\n",
       "       'relax', 'religious', 'retro', 'rhythm', 'rnb', 'rnr', 'rock',\n",
       "       'rockabilly', 'rockalternative', 'rockindie', 'rockother',\n",
       "       'romance', 'roots', 'ruspop', 'rusrap', 'rusrock', 'russian',\n",
       "       'salsa', 'samba', 'scenic', 'schlager', 'self', 'sertanejo',\n",
       "       'shanson', 'shoegazing', 'showtunes', 'singer', 'ska', 'skarock',\n",
       "       'slow', 'smooth', 'soft', 'soul', 'soulful', 'sound', 'soundtrack',\n",
       "       'southern', 'specialty', 'speech', 'spiritual', 'sport',\n",
       "       'stonerrock', 'surf', 'swing', 'synthpop', 'synthrock',\n",
       "       'sängerportrait', 'tango', 'tanzorchester', 'taraftar', 'tatar',\n",
       "       'tech', 'techno', 'teen', 'thrash', 'top', 'traditional',\n",
       "       'tradjazz', 'trance', 'tribal', 'trip', 'triphop', 'tropical',\n",
       "       'türk', 'türkçe', 'ukrrock', 'unknown', 'urban', 'uzbek',\n",
       "       'variété', 'vi', 'videogame', 'vocal', 'western', 'world',\n",
       "       'worldbeat', 'ïîï', 'электроника'], dtype=object)"
      ]
     },
     "execution_count": 15,
     "metadata": {},
     "output_type": "execute_result"
    }
   ],
   "source": [
    "# Просмотр уникальных названий жанров\n",
    "# df['genre']\n",
    "# df['genre'].sort_values()\n",
    "df['genre'].sort_values().unique()"
   ]
  },
  {
   "cell_type": "markdown",
   "metadata": {
    "id": "qej-Qmuo_Zct"
   },
   "source": [
    "Просмотрите список и найдите неявные дубликаты названия `hiphop`. Это могут быть названия с ошибками или альтернативные названия того же жанра.\n",
    "\n",
    "Вы увидите следующие неявные дубликаты:\n",
    "* *hip*,\n",
    "* *hop*,\n",
    "* *hip-hop*.\n",
    "\n",
    "Чтобы очистить от них таблицу, напишите функцию `replace_wrong_genres()` с двумя параметрами: \n",
    "* `wrong_genres` — список дубликатов,\n",
    "* `correct_genre` — строка с правильным значением.\n",
    "\n",
    "Функция должна исправить колонку `genre` в таблице `df`: заменить каждое значение из списка `wrong_genres` на значение из `correct_genre`."
   ]
  },
  {
   "cell_type": "code",
   "execution_count": 16,
   "metadata": {
    "id": "ErNDkmns_Zct"
   },
   "outputs": [],
   "source": [
    "# Функция для замены неявных дубликатов\n",
    "def replace_wrong_genres(wrong_genres, correct_genre):\n",
    "    for wrong_genre in wrong_genres:\n",
    "        df['genre'] = df['genre'].replace(wrong_genres, correct_genre)"
   ]
  },
  {
   "cell_type": "markdown",
   "metadata": {
    "id": "aDoBJxbA_Zct"
   },
   "source": [
    "Вызовите `replace_wrong_genres()` и передайте ей такие аргументы, чтобы она устранила неявные дубликаты: вместо `hip`, `hop` и `hip-hop` в таблице должно быть значение `hiphop`:"
   ]
  },
  {
   "cell_type": "code",
   "execution_count": 17,
   "metadata": {
    "id": "YN5i2hpmSo09"
   },
   "outputs": [],
   "source": [
    "# Устранение неявных дубликатов\n",
    "duplicates = ['hip', 'hop', 'hip-hop']\n",
    "genre = 'hiphop' # правильный жанр\n",
    "replace_wrong_genres(duplicates, genre)\n"
   ]
  },
  {
   "cell_type": "markdown",
   "metadata": {
    "id": "zQKF16_RG15m"
   },
   "source": [
    "Проверьте, что заменили неправильные названия:\n",
    "\n",
    "*   hip\n",
    "*   hop\n",
    "*   hip-hop\n",
    "\n",
    "Выведите отсортированный список уникальных значений столбца `genre`:"
   ]
  },
  {
   "cell_type": "code",
   "execution_count": 18,
   "metadata": {
    "id": "wvixALnFG15m"
   },
   "outputs": [
    {
     "data": {
      "text/plain": [
       "array(['acid', 'acoustic', 'action', 'adult', 'africa', 'afrikaans',\n",
       "       'alternative', 'alternativepunk', 'ambient', 'americana',\n",
       "       'animated', 'anime', 'arabesk', 'arabic', 'arena',\n",
       "       'argentinetango', 'art', 'audiobook', 'author', 'avantgarde',\n",
       "       'axé', 'baile', 'balkan', 'beats', 'bigroom', 'black', 'bluegrass',\n",
       "       'blues', 'bollywood', 'bossa', 'brazilian', 'breakbeat', 'breaks',\n",
       "       'broadway', 'cantautori', 'cantopop', 'canzone', 'caribbean',\n",
       "       'caucasian', 'celtic', 'chamber', 'chanson', 'children', 'chill',\n",
       "       'chinese', 'choral', 'christian', 'christmas', 'classical',\n",
       "       'classicmetal', 'club', 'colombian', 'comedy', 'conjazz',\n",
       "       'contemporary', 'country', 'cuban', 'dance', 'dancehall',\n",
       "       'dancepop', 'dark', 'death', 'deep', 'deutschrock', 'deutschspr',\n",
       "       'dirty', 'disco', 'dnb', 'documentary', 'downbeat', 'downtempo',\n",
       "       'drum', 'dub', 'dubstep', 'eastern', 'easy', 'electronic',\n",
       "       'electropop', 'emo', 'entehno', 'epicmetal', 'estrada', 'ethnic',\n",
       "       'eurofolk', 'european', 'experimental', 'extrememetal', 'fado',\n",
       "       'fairytail', 'film', 'fitness', 'flamenco', 'folk', 'folklore',\n",
       "       'folkmetal', 'folkrock', 'folktronica', 'forró', 'frankreich',\n",
       "       'französisch', 'french', 'funk', 'future', 'gangsta', 'garage',\n",
       "       'german', 'ghazal', 'gitarre', 'glitch', 'gospel', 'gothic',\n",
       "       'grime', 'grunge', 'gypsy', 'handsup', \"hard'n'heavy\", 'hardcore',\n",
       "       'hardstyle', 'hardtechno', 'hiphop', 'historisch', 'holiday',\n",
       "       'horror', 'house', 'hymn', 'idm', 'independent', 'indian', 'indie',\n",
       "       'indipop', 'industrial', 'inspirational', 'instrumental',\n",
       "       'international', 'irish', 'jam', 'japanese', 'jazz', 'jewish',\n",
       "       'jpop', 'jungle', 'k-pop', 'karadeniz', 'karaoke', 'kayokyoku',\n",
       "       'korean', 'laiko', 'latin', 'latino', 'leftfield', 'local',\n",
       "       'lounge', 'loungeelectronic', 'lovers', 'malaysian', 'mandopop',\n",
       "       'marschmusik', 'meditative', 'mediterranean', 'melodic', 'metal',\n",
       "       'metalcore', 'mexican', 'middle', 'minimal', 'miscellaneous',\n",
       "       'modern', 'mood', 'mpb', 'muslim', 'native', 'neoklassik', 'neue',\n",
       "       'new', 'newage', 'newwave', 'nu', 'nujazz', 'numetal', 'oceania',\n",
       "       'old', 'opera', 'orchestral', 'other', 'piano', 'podcasts', 'pop',\n",
       "       'popdance', 'popelectronic', 'popeurodance', 'poprussian', 'post',\n",
       "       'posthardcore', 'postrock', 'power', 'progmetal', 'progressive',\n",
       "       'psychedelic', 'punjabi', 'punk', 'quebecois', 'ragga', 'ram',\n",
       "       'rancheras', 'rap', 'rave', 'reggae', 'reggaeton', 'regional',\n",
       "       'relax', 'religious', 'retro', 'rhythm', 'rnb', 'rnr', 'rock',\n",
       "       'rockabilly', 'rockalternative', 'rockindie', 'rockother',\n",
       "       'romance', 'roots', 'ruspop', 'rusrap', 'rusrock', 'russian',\n",
       "       'salsa', 'samba', 'scenic', 'schlager', 'self', 'sertanejo',\n",
       "       'shanson', 'shoegazing', 'showtunes', 'singer', 'ska', 'skarock',\n",
       "       'slow', 'smooth', 'soft', 'soul', 'soulful', 'sound', 'soundtrack',\n",
       "       'southern', 'specialty', 'speech', 'spiritual', 'sport',\n",
       "       'stonerrock', 'surf', 'swing', 'synthpop', 'synthrock',\n",
       "       'sängerportrait', 'tango', 'tanzorchester', 'taraftar', 'tatar',\n",
       "       'tech', 'techno', 'teen', 'thrash', 'top', 'traditional',\n",
       "       'tradjazz', 'trance', 'tribal', 'trip', 'triphop', 'tropical',\n",
       "       'türk', 'türkçe', 'ukrrock', 'unknown', 'urban', 'uzbek',\n",
       "       'variété', 'vi', 'videogame', 'vocal', 'western', 'world',\n",
       "       'worldbeat', 'ïîï', 'электроника'], dtype=object)"
      ]
     },
     "execution_count": 18,
     "metadata": {},
     "output_type": "execute_result"
    }
   ],
   "source": [
    "# Проверка на неявные дубликаты\n",
    "# df['genre']\n",
    "# df['genre'].sort_values()\n",
    "df['genre'].sort_values().unique()\n"
   ]
  },
  {
   "cell_type": "markdown",
   "metadata": {
    "id": "jz6a9-7HQUDd"
   },
   "source": [
    "**Выводы**\n",
    "\n",
    "Предобработка обнаружила три проблемы в данных:\n",
    "\n",
    "- нарушения в стиле заголовков,\n",
    "- пропущенные значения,\n",
    "- дубликаты — явные и неявные.\n",
    "\n",
    "Вы исправили заголовки, чтобы упростить работу с таблицей. Без дубликатов исследование станет более точным.\n",
    "\n",
    "Пропущенные значения вы заменили на `'unknown'`. Ещё предстоит увидеть, не повредят ли исследованию пропуски в колонке `genre`.\n",
    "\n",
    "Теперь можно перейти к проверке гипотез. "
   ]
  },
  {
   "cell_type": "markdown",
   "metadata": {
    "id": "WttZHXH0SqKk"
   },
   "source": [
    "## Проверка гипотез"
   ]
  },
  {
   "cell_type": "markdown",
   "metadata": {
    "id": "Im936VVi_Zcu"
   },
   "source": [
    "### Сравнение поведения пользователей двух столиц"
   ]
  },
  {
   "cell_type": "markdown",
   "metadata": {
    "id": "nwt_MuaL_Zcu"
   },
   "source": [
    "Первая гипотеза утверждает, что пользователи по-разному слушают музыку в Москве и Санкт-Петербурге. Проверьте это предположение по данным о трёх днях недели — понедельнике, среде и пятнице. Для этого:\n",
    "\n",
    "* Разделите пользователей Москвы и Санкт-Петербурга\n",
    "* Сравните, сколько треков послушала каждая группа пользователей в понедельник, среду и пятницу.\n"
   ]
  },
  {
   "cell_type": "markdown",
   "metadata": {
    "id": "8Dw_YMmT_Zcu"
   },
   "source": [
    "Для тренировки сначала выполните каждый из расчётов по отдельности. \n",
    "\n",
    "Оцените активность пользователей в каждом городе. Сгруппируйте данные по городу и посчитайте прослушивания в каждой группе.\n",
    "\n"
   ]
  },
  {
   "cell_type": "code",
   "execution_count": 19,
   "metadata": {
    "id": "0_Qs96oh_Zcu",
    "scrolled": false
   },
   "outputs": [
    {
     "data": {
      "text/plain": [
       "city\n",
       "Moscow              42741\n",
       "Saint-Petersburg    18512\n",
       "Name: genre, dtype: int64"
      ]
     },
     "execution_count": 19,
     "metadata": {},
     "output_type": "execute_result"
    }
   ],
   "source": [
    "# Подсчёт прослушиваний в каждом городе\n",
    "df.groupby('city')['genre'].count()\n"
   ]
  },
  {
   "cell_type": "markdown",
   "metadata": {
    "id": "dzli3w8o_Zcu"
   },
   "source": [
    "В Москве прослушиваний больше, чем в Петербурге. Из этого не следует, что московские пользователи чаще слушают музыку. Просто самих пользователей в Москве больше.\n",
    "\n",
    "Теперь сгруппируйте данные по дню недели и подсчитайте прослушивания в понедельник, среду и пятницу. Учтите, что в данных есть информация только о прослушиваниях только за эти дни.\n"
   ]
  },
  {
   "cell_type": "code",
   "execution_count": 20,
   "metadata": {
    "id": "uZMKjiJz_Zcu"
   },
   "outputs": [
    {
     "data": {
      "text/plain": [
       "day\n",
       "Friday       21840\n",
       "Monday       21354\n",
       "Wednesday    18059\n",
       "Name: genre, dtype: int64"
      ]
     },
     "execution_count": 20,
     "metadata": {},
     "output_type": "execute_result"
    }
   ],
   "source": [
    "# Подсчёт прослушиваний в каждый из трёх дней\n",
    "df.groupby('day')['genre'].count()\n"
   ]
  },
  {
   "cell_type": "markdown",
   "metadata": {
    "id": "cC2tNrlL_Zcu"
   },
   "source": [
    "В среднем пользователи из двух городов менее активны по средам. Но картина может измениться, если рассмотреть каждый город в отдельности."
   ]
  },
  {
   "cell_type": "markdown",
   "metadata": {
    "id": "POzs8bGa_Zcu"
   },
   "source": [
    "Вы видели, как работает группировка по городу и по дням недели. Теперь напишите функцию, которая объединит два эти расчёта.\n",
    "\n",
    "Создайте функцию `number_tracks()`, которая посчитает прослушивания для заданного дня и города. Ей понадобятся два параметра:\n",
    "* день недели,\n",
    "* название города.\n",
    "\n",
    "В функции сохраните в переменную строки исходной таблицы, у которых значение:\n",
    "  * в колонке `day` равно параметру `day`,\n",
    "  * в колонке `city` равно параметру `city`.\n",
    "\n",
    "Для этого примените последовательную фильтрацию с логической индексацией.\n",
    "\n",
    "Затем посчитайте значения в столбце `user_id` получившейся таблицы. Результат сохраните в новую переменную. Верните эту переменную из функции."
   ]
  },
  {
   "cell_type": "code",
   "execution_count": 21,
   "metadata": {
    "id": "Nz3GdQB1_Zcu"
   },
   "outputs": [],
   "source": [
    "# <создание функции number_tracks()>\n",
    "# Объявляется функция с двумя параметрами: day, city.\n",
    "# В переменной track_list сохраняются те строки таблицы df, для которых \n",
    "# значение в столбце 'day' равно параметру day и одновременно значение\n",
    "# в столбце 'city' равно параметру city (используйте последовательную фильтрацию\n",
    "# с помощью логической индексации).\n",
    "# В переменной track_list_count сохраняется число значений столбца 'user_id',\n",
    "# рассчитанное методом count() для таблицы track_list.\n",
    "# Функция возвращает число - значение track_list_count.\n",
    "# Функция для подсчёта прослушиваний для конкретного города и дня.\n",
    "# С помощью последовательной фильтрации с логической индексацией она \n",
    "# сначала получит из исходной таблицы строки с нужным днём,\n",
    "# затем из результата отфильтрует строки с нужным городом,\n",
    "# методом count() посчитает количество значений в колонке user_id. \n",
    "# Это количество функция вернёт в качестве результата\n",
    "def number_tracks(df, day, city):\n",
    "    track_list = df[(df['day'] == day) & (df['city'] == city)]\n",
    "    track_list_count = track_list['genre'].count()"
   ]
  },
  {
   "cell_type": "markdown",
   "metadata": {
    "id": "ytf7xFrFJQ2r"
   },
   "source": [
    "Вызовите `number_tracks()` шесть раз, меняя значение параметров — так, чтобы получить данные для каждого города в каждый из трёх дней."
   ]
  },
  {
   "cell_type": "code",
   "execution_count": 22,
   "metadata": {
    "id": "rJcRATNQ_Zcu"
   },
   "outputs": [],
   "source": [
    "# количество прослушиваний в Москве по понедельникам\n",
    "number_tracks(df, 'Monday', 'Moscow')"
   ]
  },
  {
   "cell_type": "code",
   "execution_count": 23,
   "metadata": {
    "id": "hq_ncZ5T_Zcu"
   },
   "outputs": [],
   "source": [
    "# количество прослушиваний в Санкт-Петербурге по понедельникам\n",
    "number_tracks(df, 'Monday', 'Saint-Petersburg')"
   ]
  },
  {
   "cell_type": "code",
   "execution_count": 24,
   "metadata": {
    "id": "_NTy2VPU_Zcu"
   },
   "outputs": [],
   "source": [
    "# количество прослушиваний в Москве по средам\n",
    "number_tracks(df, 'Wednesday', 'Moscow')"
   ]
  },
  {
   "cell_type": "code",
   "execution_count": 25,
   "metadata": {
    "id": "j2y3TAwo_Zcu"
   },
   "outputs": [],
   "source": [
    "# количество прослушиваний в Санкт-Петербурге по средам\n",
    "number_tracks(df, 'Wednesday', 'Saint-Petersburg')"
   ]
  },
  {
   "cell_type": "code",
   "execution_count": 26,
   "metadata": {
    "id": "vYDw5u_K_Zcu"
   },
   "outputs": [],
   "source": [
    "# количество прослушиваний в Москве по пятницам\n",
    "number_tracks(df, 'Friday', 'Moscow')"
   ]
  },
  {
   "cell_type": "code",
   "execution_count": 27,
   "metadata": {
    "id": "8_yzFtW3_Zcu"
   },
   "outputs": [],
   "source": [
    "# количество прослушиваний в Санкт-Петербурге по пятницам\n",
    "number_tracks(df, 'Friday', 'Saint-Petersburg')"
   ]
  },
  {
   "cell_type": "markdown",
   "metadata": {
    "id": "7QXffbO-_Zcu"
   },
   "source": [
    "Создайте c помощью конструктора `pd.DataFrame` таблицу, где\n",
    "* названия колонок — `['city', 'monday', 'wednesday', 'friday']`;\n",
    "* данные — результаты, которые вы получили с помощью `number_tracks`."
   ]
  },
  {
   "cell_type": "code",
   "execution_count": 28,
   "metadata": {
    "id": "APAcLpOr_Zcu"
   },
   "outputs": [
    {
     "data": {
      "text/html": [
       "<div>\n",
       "<style scoped>\n",
       "    .dataframe tbody tr th:only-of-type {\n",
       "        vertical-align: middle;\n",
       "    }\n",
       "\n",
       "    .dataframe tbody tr th {\n",
       "        vertical-align: top;\n",
       "    }\n",
       "\n",
       "    .dataframe thead th {\n",
       "        text-align: right;\n",
       "    }\n",
       "</style>\n",
       "<table border=\"1\" class=\"dataframe\">\n",
       "  <thead>\n",
       "    <tr style=\"text-align: right;\">\n",
       "      <th></th>\n",
       "      <th>city</th>\n",
       "      <th>monday</th>\n",
       "      <th>wednesday</th>\n",
       "      <th>friday</th>\n",
       "    </tr>\n",
       "  </thead>\n",
       "  <tbody>\n",
       "    <tr>\n",
       "      <td>0</td>\n",
       "      <td>Moscow</td>\n",
       "      <td>15347</td>\n",
       "      <td>10865</td>\n",
       "      <td>15680</td>\n",
       "    </tr>\n",
       "    <tr>\n",
       "      <td>1</td>\n",
       "      <td>Saint-Petersburg</td>\n",
       "      <td>5519</td>\n",
       "      <td>6913</td>\n",
       "      <td>5802</td>\n",
       "    </tr>\n",
       "  </tbody>\n",
       "</table>\n",
       "</div>"
      ],
      "text/plain": [
       "               city  monday  wednesday  friday\n",
       "0            Moscow   15347      10865   15680\n",
       "1  Saint-Petersburg    5519       6913    5802"
      ]
     },
     "metadata": {},
     "output_type": "display_data"
    }
   ],
   "source": [
    "# Таблица с результатами\n",
    "music_data = [\n",
    "    ['Moscow', 15347, 10865, 15680],\n",
    "    ['Saint-Petersburg', 5519, 6913, 5802]\n",
    "]\n",
    "\n",
    "table = pd.DataFrame(data=music_data, columns=['city', 'monday', 'wednesday', 'friday'])\n",
    "display(table)"
   ]
  },
  {
   "cell_type": "markdown",
   "metadata": {
    "id": "-EgPIHYu_Zcu"
   },
   "source": [
    "**Выводы**\n",
    "\n",
    "Данные показывают разницу поведения пользователей:\n",
    "\n",
    "- В Москве пик прослушиваний приходится на понедельник и пятницу, а в среду заметен спад.\n",
    "- В Петербурге, наоборот, больше слушают музыку по средам. Активность в понедельник и пятницу здесь почти в равной мере уступает среде.\n",
    "\n",
    "Значит, данные говорят в пользу первой гипотезы."
   ]
  },
  {
   "cell_type": "markdown",
   "metadata": {
    "id": "atZAxtq4_Zcu"
   },
   "source": [
    "### Музыка в начале и в конце недели"
   ]
  },
  {
   "cell_type": "markdown",
   "metadata": {
    "id": "eXrQqXFH_Zcu"
   },
   "source": [
    "Согласно второй гипотезе, утром в понедельник в Москве преобладают одни жанры, а в Петербурге — другие. Так же и вечером пятницы преобладают разные жанры — в зависимости от города."
   ]
  },
  {
   "cell_type": "markdown",
   "metadata": {
    "id": "S8UcW6Hw_Zcu"
   },
   "source": [
    "Сохраните таблицы с данными в две переменные:\n",
    "* по Москве — в `moscow_general`;\n",
    "* по Санкт-Петербургу — в `spb_general`."
   ]
  },
  {
   "cell_type": "code",
   "execution_count": 29,
   "metadata": {
    "id": "qeaFfM_P_Zcu"
   },
   "outputs": [],
   "source": [
    "# получение таблицы moscow_general из тех строк таблицы df, \n",
    "# для которых значение в столбце 'city' равно 'Moscow'\n",
    "moscow_general = df[df['city'] == 'Moscow']"
   ]
  },
  {
   "cell_type": "code",
   "execution_count": 30,
   "metadata": {
    "id": "ORaVRKto_Zcu"
   },
   "outputs": [],
   "source": [
    "# получение таблицы spb_general из тех строк таблицы df,\n",
    "# для которых значение в столбце 'city' равно 'Saint-Petersburg'\n",
    "spb_general = df[df['city'] == 'Saint-Petersburg']\n"
   ]
  },
  {
   "cell_type": "markdown",
   "metadata": {
    "id": "MEJV-CX2_Zcu"
   },
   "source": [
    "Создайте функцию `genre_weekday()` с четырьмя параметрами:\n",
    "* таблица (датафрейм) с данными,\n",
    "* день недели,\n",
    "* начальная временная метка в формате 'hh:mm', \n",
    "* последняя временная метка в формате 'hh:mm'.\n",
    "\n",
    "Функция должна вернуть информацию о топ-10 жанров тех треков, которые прослушивали в указанный день, в промежутке между двумя отметками времени."
   ]
  },
  {
   "cell_type": "code",
   "execution_count": 31,
   "metadata": {
    "id": "laJT9BYl_Zcu"
   },
   "outputs": [],
   "source": [
    "# Объявление функции genre_weekday() с параметрами table, day, time1, time2,\n",
    "# которая возвращает информацию о самых популярных жанрах в указанный день в\n",
    "# заданное время:\n",
    "# 1) в переменную genre_df сохраняются те строки переданного датафрейма table, для\n",
    "#    которых одновременно:\n",
    "#    - значение в столбце day равно значению аргумента day\n",
    "#    - значение в столбце time больше значения аргумента time1\n",
    "#    - значение в столбце time меньше значения аргумента time2\n",
    "#    Используйте последовательную фильтрацию с помощью логической индексации.\n",
    "# 2) сгруппировать датафрейм genre_df по столбцу genre, взять один из его\n",
    "#    столбцов и посчитать методом count() количество записей для каждого из\n",
    "#    присутствующих жанров, получившийся Series записать в переменную\n",
    "#    genre_df_count\n",
    "# 3) отсортировать genre_df_count по убыванию встречаемости и сохранить\n",
    "#    в переменную genre_df_sorted\n",
    "# 4) вернуть Series из 10 первых значений genre_df_sorted, это будут топ-10\n",
    "#    популярных жанров (в указанный день, в заданное время)\n",
    "def genre_weekday(table, day, time1, time2):\n",
    "    genre_df = table[table['day'] == day]\n",
    "    genre_df = genre_df[genre_df['time'] > time1]\n",
    "    genre_df = genre_df[genre_df['time'] < time2]\n",
    "    \n",
    "    genre_df_sorted = genre_df.groupby('genre')['genre'].count().sort_values(ascending=False).head(10)\n",
    "\n",
    "    return genre_df_sorted"
   ]
  },
  {
   "cell_type": "markdown",
   "metadata": {
    "id": "la2s2_PF_Zcu"
   },
   "source": [
    "Cравните результаты функции `genre_weekday()` для Москвы и Санкт-Петербурга в понедельник утром (с 7:00 до 11:00) и в пятницу вечером (с 17:00 до 23:00):"
   ]
  },
  {
   "cell_type": "code",
   "execution_count": null,
   "metadata": {
    "id": "yz7itPUQ_Zcu"
   },
   "outputs": [],
   "source": [
    "# вызов функции для утра понедельника в Москве (вместо df — таблица moscow_general)\n",
    "2 # объекты, хранящие время, являются строками и сравниваются как строки\n",
    "3 # пример вызова: genre_weekday(moscow_general, 'Monday', '07:00', '11:00')\n",
    "genre_weekday(moscow_general, 'Monday', '07:00', '11:00')\n"
   ]
  },
  {
   "cell_type": "code",
   "execution_count": null,
   "metadata": {
    "id": "kwUcHPdy_Zcu"
   },
   "outputs": [],
   "source": [
    "# вызов функции для утра понедельника в Петербурге (вместо df — таблица spb_general)\n",
    "genre_weekday(spb_general, 'Monday',  '07:00',  '11:00')"
   ]
  },
  {
   "cell_type": "code",
   "execution_count": null,
   "metadata": {
    "id": "EzXVRE1o_Zcu"
   },
   "outputs": [],
   "source": [
    "# вызов функции для вечера пятницы в Москве\n",
    "genre_weekday(moscow_general, 'Friday',  '17:00',  '23:00')"
   ]
  },
  {
   "cell_type": "code",
   "execution_count": null,
   "metadata": {
    "id": "JZaEKu5v_Zcu"
   },
   "outputs": [],
   "source": [
    "# вызов функции для вечера пятницы в Петербурге\n",
    "genre_weekday(spb_general, 'Friday',  '17:00',  '23:00')"
   ]
  },
  {
   "cell_type": "markdown",
   "metadata": {
    "id": "wrCe4MNX_Zcu"
   },
   "source": [
    "**Выводы**\n",
    "\n",
    "Если сравнить топ-10 жанров в понедельник утром, можно сделать такие выводы:\n",
    "\n",
    "1. В Москве и Петербурге слушают похожую музыку. Единственное отличие — в московский рейтинг вошёл жанр “world”, а в петербургский — джаз и классика.\n",
    "\n",
    "2. В Москве пропущенных значений оказалось так много, что значение `'unknown'` заняло десятое место среди самых популярных жанров. Значит, пропущенные значения занимают существенную долю в данных и угрожают достоверности исследования.\n",
    "\n",
    "Вечер пятницы не меняет эту картину. Некоторые жанры поднимаются немного выше, другие спускаются, но в целом топ-10 остаётся тем же самым.\n",
    "\n",
    "Таким образом, вторая гипотеза подтвердилась лишь частично:\n",
    "* Пользователи слушают похожую музыку в начале недели и в конце.\n",
    "* Разница между Москвой и Петербургом не слишком выражена. В Москве чаще слушают русскую популярную музыку, в Петербурге — джаз.\n",
    "\n",
    "Однако пропуски в данных ставят под сомнение этот результат. В Москве их так много, что рейтинг топ-10 мог бы выглядеть иначе, если бы не утерянные  данные о жанрах."
   ]
  },
  {
   "cell_type": "markdown",
   "metadata": {
    "id": "JolODAqr_Zcu"
   },
   "source": [
    "### Жанровые предпочтения в Москве и Петербурге\n",
    "\n",
    "Гипотеза: Петербург — столица рэпа, музыку этого жанра там слушают чаще, чем в Москве.  А Москва — город контрастов, в котором, тем не менее, преобладает поп-музыка."
   ]
  },
  {
   "cell_type": "markdown",
   "metadata": {
    "id": "DlegSvaT_Zcu"
   },
   "source": [
    "Сгруппируйте таблицу `moscow_general` по жанру и посчитайте прослушивания треков каждого жанра методом `count()`. Затем отсортируйте результат в порядке убывания и сохраните его в таблице `moscow_genres`."
   ]
  },
  {
   "cell_type": "code",
   "execution_count": null,
   "metadata": {
    "id": "r19lIPke_Zcu"
   },
   "outputs": [],
   "source": [
    "# одной строкой: группировка таблицы moscow_general по столбцу 'genre', \n",
    "# подсчёт числа значений 'genre' в этой группировке методом count(), \n",
    "# сортировка получившегося Series в порядке убывания и сохранение в moscow_genres\n",
    "moscow_genres = moscow_general.groupby('genre')['genre'].count().sort_values(ascending=False)"
   ]
  },
  {
   "cell_type": "markdown",
   "metadata": {
    "id": "6kMuomxTiIr8"
   },
   "source": [
    "Выведите на экран первые десять строк `moscow_genres`:"
   ]
  },
  {
   "cell_type": "code",
   "execution_count": null,
   "metadata": {
    "id": "WhCSooF8_Zcv"
   },
   "outputs": [],
   "source": [
    "# просмотр первых 10 строк moscow_genres\n",
    "moscow_genres.head(10)"
   ]
  },
  {
   "cell_type": "markdown",
   "metadata": {
    "id": "cnPG2vnN_Zcv"
   },
   "source": [
    "Теперь повторите то же и для Петербурга.\n",
    "\n",
    "Сгруппируйте таблицу `spb_general` по жанру. Посчитайте прослушивания треков каждого жанра. Результат отсортируйте в порядке убывания и сохраните в таблице `spb_genres`:\n"
   ]
  },
  {
   "cell_type": "code",
   "execution_count": null,
   "metadata": {
    "id": "gluLIpE7_Zcv"
   },
   "outputs": [],
   "source": [
    "# одной строкой: группировка таблицы spb_general по столбцу 'genre', \n",
    "# подсчёт числа значений 'genre' в этой группировке методом count(), \n",
    "# сортировка получившегося Series в порядке убывания и сохранение в spb_genres\n",
    "spb_genres = spb_general.groupby('genre')['genre'].count().sort_values(ascending=False)"
   ]
  },
  {
   "cell_type": "markdown",
   "metadata": {
    "id": "5Doha_ODgyQ8"
   },
   "source": [
    "Выведите на экран первые десять строк `spb_genres`:"
   ]
  },
  {
   "cell_type": "code",
   "execution_count": null,
   "metadata": {
    "id": "uaGJHjVU_Zcv"
   },
   "outputs": [],
   "source": [
    "# просмотр первых 10 строк spb_genres\n",
    "spb_genres.head(10)"
   ]
  },
  {
   "cell_type": "markdown",
   "metadata": {
    "id": "RY51YJYu_Zcv"
   },
   "source": [
    "**Выводы**"
   ]
  },
  {
   "cell_type": "markdown",
   "metadata": {
    "id": "nVhnJEm__Zcv"
   },
   "source": [
    "Гипотеза частично подтвердилась:\n",
    "* Поп-музыка — самый популярный жанр в Москве, как и предполагала гипотеза. Более того, в топ-10 жанров встречается близкий жанр — русская популярная музыка.\n",
    "* Вопреки ожиданиям, рэп одинаково популярен в Москве и Петербурге. \n"
   ]
  },
  {
   "cell_type": "markdown",
   "metadata": {
    "id": "ykKQ0N65_Zcv"
   },
   "source": [
    "## Итоги исследования"
   ]
  },
  {
   "cell_type": "markdown",
   "metadata": {
    "id": "tjUwbHb3_Zcv"
   },
   "source": [
    "Вы проверили три гипотезы и установили:\n",
    "\n",
    "1. День недели по-разному влияет на активность пользователей в Москве и Петербурге. \n",
    "\n",
    "Первая гипотеза полностью подтвердилась.\n",
    "\n",
    "2. Музыкальные предпочтения не сильно меняются в течение недели — будь то Москва или Петербург. Небольшие различия заметны в начале недели, по понедельникам:\n",
    "* в Москве слушают музыку жанра “world”,\n",
    "* в Петербурге — джаз и классику.\n",
    "\n",
    "Таким образом, вторая гипотеза подтвердилась лишь отчасти. Этот результат мог оказаться иным, если бы не пропуски в данных.\n",
    "\n",
    "3. Во вкусах пользователей Москвы и Петербурга больше общего чем различий. Вопреки ожиданиям, предпочтения жанров в Петербурге напоминают московские.\n",
    "\n",
    "Третья гипотеза не подтвердилась. Если различия в предпочтениях и существуют, на основной массе пользователей они незаметны.\n",
    "\n",
    "**На практике исследования содержат проверки статистических гипотез.**\n",
    "Из данных одного сервиса не всегда можно сделать вывод о всех жителях города.\n",
    "Проверки статистических гипотез покажут, насколько они достоверны, исходя из имеющихся данных. \n",
    "С методами проверок гипотез вы ещё познакомитесь в следующих темах."
   ]
  }
 ],
 "metadata": {
  "ExecuteTimeLog": [
   {
    "duration": 293,
    "start_time": "2022-02-15T03:46:06.288Z"
   },
   {
    "duration": 649,
    "start_time": "2022-02-15T03:46:23.583Z"
   },
   {
    "duration": 174,
    "start_time": "2022-02-15T03:46:33.998Z"
   },
   {
    "duration": 8,
    "start_time": "2022-02-15T03:46:37.747Z"
   },
   {
    "duration": 26,
    "start_time": "2022-02-15T03:46:58.732Z"
   },
   {
    "duration": 4,
    "start_time": "2022-02-15T03:51:48.800Z"
   },
   {
    "duration": 24,
    "start_time": "2022-02-15T03:54:15.053Z"
   },
   {
    "duration": 4,
    "start_time": "2022-02-15T03:54:30.492Z"
   },
   {
    "duration": 23,
    "start_time": "2022-02-15T03:56:34.041Z"
   },
   {
    "duration": 18,
    "start_time": "2022-02-15T04:09:31.385Z"
   },
   {
    "duration": 22,
    "start_time": "2022-02-15T04:09:49.309Z"
   },
   {
    "duration": 65,
    "start_time": "2022-02-15T04:10:45.906Z"
   },
   {
    "duration": 69,
    "start_time": "2022-02-15T04:11:26.916Z"
   },
   {
    "duration": 57,
    "start_time": "2022-02-15T04:11:40.011Z"
   },
   {
    "duration": 307,
    "start_time": "2022-02-15T04:23:23.483Z"
   },
   {
    "duration": 274,
    "start_time": "2022-02-15T04:23:45.068Z"
   },
   {
    "duration": 6,
    "start_time": "2022-02-15T04:23:56.556Z"
   },
   {
    "duration": 3,
    "start_time": "2022-02-15T04:33:00.276Z"
   },
   {
    "duration": 16,
    "start_time": "2022-02-15T04:36:18.815Z"
   },
   {
    "duration": 890,
    "start_time": "2022-02-15T04:40:10.145Z"
   },
   {
    "duration": 5,
    "start_time": "2022-02-15T04:40:18.196Z"
   },
   {
    "duration": 94,
    "start_time": "2022-02-15T04:40:58.863Z"
   },
   {
    "duration": 6,
    "start_time": "2022-02-15T04:41:04.060Z"
   },
   {
    "duration": 212,
    "start_time": "2022-02-20T13:58:31.899Z"
   },
   {
    "duration": 220,
    "start_time": "2022-02-20T13:58:42.671Z"
   },
   {
    "duration": 179,
    "start_time": "2022-02-20T13:59:05.418Z"
   },
   {
    "duration": 176,
    "start_time": "2022-02-20T13:59:53.540Z"
   },
   {
    "duration": 170,
    "start_time": "2022-02-20T14:07:36.030Z"
   },
   {
    "duration": 173,
    "start_time": "2022-02-20T14:24:00.650Z"
   },
   {
    "duration": 189,
    "start_time": "2022-02-20T14:36:30.433Z"
   },
   {
    "duration": 358,
    "start_time": "2022-02-20T14:37:03.722Z"
   },
   {
    "duration": 178,
    "start_time": "2022-02-20T14:38:12.044Z"
   },
   {
    "duration": 181,
    "start_time": "2022-02-20T14:41:15.083Z"
   },
   {
    "duration": 169,
    "start_time": "2022-02-20T14:43:14.427Z"
   },
   {
    "duration": 181,
    "start_time": "2022-02-20T14:44:21.360Z"
   },
   {
    "duration": 173,
    "start_time": "2022-02-20T14:44:33.859Z"
   },
   {
    "duration": 175,
    "start_time": "2022-02-20T14:44:59.503Z"
   },
   {
    "duration": 56,
    "start_time": "2022-02-20T14:53:02.842Z"
   },
   {
    "duration": 56,
    "start_time": "2022-02-20T14:53:12.441Z"
   },
   {
    "duration": 252,
    "start_time": "2022-02-20T14:53:22.459Z"
   },
   {
    "duration": 313,
    "start_time": "2022-02-21T10:28:08.982Z"
   },
   {
    "duration": 318,
    "start_time": "2022-02-21T10:28:49.003Z"
   },
   {
    "duration": 345,
    "start_time": "2022-02-21T10:29:00.963Z"
   },
   {
    "duration": 265,
    "start_time": "2022-02-21T10:29:17.519Z"
   },
   {
    "duration": 385,
    "start_time": "2022-02-21T10:29:25.911Z"
   },
   {
    "duration": 258,
    "start_time": "2022-02-21T10:29:56.231Z"
   },
   {
    "duration": 131,
    "start_time": "2022-02-21T10:30:08.912Z"
   },
   {
    "duration": 299,
    "start_time": "2022-02-21T10:30:15.800Z"
   },
   {
    "duration": 280,
    "start_time": "2022-02-21T10:30:28.923Z"
   },
   {
    "duration": 557,
    "start_time": "2022-02-21T11:17:41.225Z"
   },
   {
    "duration": 1409,
    "start_time": "2022-02-21T11:17:56.148Z"
   },
   {
    "duration": 1563,
    "start_time": "2022-02-21T11:18:28.855Z"
   },
   {
    "duration": 175,
    "start_time": "2022-02-21T11:18:45.546Z"
   },
   {
    "duration": 145,
    "start_time": "2022-02-21T11:18:56.874Z"
   },
   {
    "duration": 8,
    "start_time": "2022-02-21T11:19:02.820Z"
   },
   {
    "duration": 139,
    "start_time": "2022-02-21T11:19:10.237Z"
   },
   {
    "duration": 26,
    "start_time": "2022-02-21T11:19:17.374Z"
   },
   {
    "duration": 176,
    "start_time": "2022-02-21T11:19:29.691Z"
   },
   {
    "duration": 219,
    "start_time": "2022-02-21T11:20:04.677Z"
   },
   {
    "duration": 214,
    "start_time": "2022-02-21T11:20:39.990Z"
   },
   {
    "duration": 193,
    "start_time": "2022-02-21T11:21:02.111Z"
   },
   {
    "duration": 444,
    "start_time": "2022-02-21T11:21:56.417Z"
   },
   {
    "duration": 188,
    "start_time": "2022-02-21T11:22:06.737Z"
   },
   {
    "duration": 4956,
    "start_time": "2022-02-21T11:22:37.419Z"
   },
   {
    "duration": 146,
    "start_time": "2022-02-21T11:23:03.830Z"
   },
   {
    "duration": 24,
    "start_time": "2022-02-21T11:23:14.153Z"
   },
   {
    "duration": 5,
    "start_time": "2022-02-21T11:23:20.898Z"
   },
   {
    "duration": 25,
    "start_time": "2022-02-21T11:23:30.331Z"
   },
   {
    "duration": 4,
    "start_time": "2022-02-21T11:23:33.559Z"
   },
   {
    "duration": 24,
    "start_time": "2022-02-21T11:23:42.216Z"
   },
   {
    "duration": 18,
    "start_time": "2022-02-21T11:23:49.915Z"
   },
   {
    "duration": 22,
    "start_time": "2022-02-21T11:23:56.184Z"
   },
   {
    "duration": 59,
    "start_time": "2022-02-21T11:24:00.113Z"
   },
   {
    "duration": 66,
    "start_time": "2022-02-21T11:24:05.336Z"
   },
   {
    "duration": 7,
    "start_time": "2022-02-21T11:24:09.343Z"
   },
   {
    "duration": 3,
    "start_time": "2022-02-21T11:24:31.688Z"
   },
   {
    "duration": 17,
    "start_time": "2022-02-21T11:24:35.181Z"
   },
   {
    "duration": 7,
    "start_time": "2022-02-21T11:24:49.920Z"
   },
   {
    "duration": 191,
    "start_time": "2022-02-21T11:24:58.473Z"
   },
   {
    "duration": 188,
    "start_time": "2022-02-21T11:26:00.891Z"
   },
   {
    "duration": 181,
    "start_time": "2022-02-21T11:27:06.542Z"
   },
   {
    "duration": 187,
    "start_time": "2022-02-21T11:27:56.789Z"
   },
   {
    "duration": 141,
    "start_time": "2022-02-21T11:48:34.631Z"
   },
   {
    "duration": 2,
    "start_time": "2022-02-21T12:55:11.440Z"
   },
   {
    "duration": 146,
    "start_time": "2022-02-21T12:55:14.081Z"
   },
   {
    "duration": 178,
    "start_time": "2022-02-21T12:55:40.397Z"
   },
   {
    "duration": 12634,
    "start_time": "2022-02-21T12:55:54.319Z"
   },
   {
    "duration": -177,
    "start_time": "2022-02-21T12:56:07.133Z"
   },
   {
    "duration": 1308,
    "start_time": "2022-02-21T13:17:35.862Z"
   },
   {
    "duration": 168,
    "start_time": "2022-02-21T13:20:12.903Z"
   },
   {
    "duration": 196,
    "start_time": "2022-02-21T13:22:38.190Z"
   },
   {
    "duration": 3,
    "start_time": "2022-02-21T13:23:49.716Z"
   },
   {
    "duration": 194,
    "start_time": "2022-02-21T13:23:55.822Z"
   },
   {
    "duration": -162,
    "start_time": "2022-02-21T13:24:13.910Z"
   },
   {
    "duration": -155,
    "start_time": "2022-02-21T13:24:21.161Z"
   },
   {
    "duration": 4471,
    "start_time": "2022-02-21T13:25:30.519Z"
   },
   {
    "duration": 4,
    "start_time": "2022-02-21T13:26:20.456Z"
   },
   {
    "duration": 159,
    "start_time": "2022-02-21T13:26:22.883Z"
   },
   {
    "duration": 8,
    "start_time": "2022-02-21T13:26:26.119Z"
   },
   {
    "duration": 27,
    "start_time": "2022-02-21T13:26:46.988Z"
   },
   {
    "duration": 4,
    "start_time": "2022-02-21T13:27:07.441Z"
   },
   {
    "duration": 21,
    "start_time": "2022-02-21T13:27:25.449Z"
   },
   {
    "duration": 4,
    "start_time": "2022-02-21T13:27:30.873Z"
   },
   {
    "duration": 24,
    "start_time": "2022-02-21T13:27:40.941Z"
   },
   {
    "duration": 22,
    "start_time": "2022-02-21T13:28:00.161Z"
   },
   {
    "duration": 25,
    "start_time": "2022-02-21T13:28:05.168Z"
   },
   {
    "duration": 63,
    "start_time": "2022-02-21T13:28:48.549Z"
   },
   {
    "duration": 76,
    "start_time": "2022-02-21T13:29:00.179Z"
   },
   {
    "duration": 61,
    "start_time": "2022-02-21T13:29:02.837Z"
   },
   {
    "duration": 6,
    "start_time": "2022-02-21T13:29:16.160Z"
   },
   {
    "duration": 13,
    "start_time": "2022-02-21T13:29:56.757Z"
   },
   {
    "duration": 3,
    "start_time": "2022-02-21T13:32:02.553Z"
   },
   {
    "duration": 25,
    "start_time": "2022-02-21T13:32:06.441Z"
   },
   {
    "duration": 7,
    "start_time": "2022-02-21T13:32:30.407Z"
   },
   {
    "duration": 170,
    "start_time": "2022-02-21T13:33:52.720Z"
   },
   {
    "duration": 13,
    "start_time": "2022-02-21T13:34:03.125Z"
   },
   {
    "duration": 183,
    "start_time": "2022-02-21T13:35:51.086Z"
   },
   {
    "duration": 11,
    "start_time": "2022-02-21T13:36:05.087Z"
   },
   {
    "duration": 4,
    "start_time": "2022-02-21T13:36:28.776Z"
   },
   {
    "duration": 6349,
    "start_time": "2022-02-21T13:36:34.828Z"
   },
   {
    "duration": 5527,
    "start_time": "2022-02-21T13:36:41.741Z"
   },
   {
    "duration": 3,
    "start_time": "2022-02-21T13:37:54.479Z"
   },
   {
    "duration": 17,
    "start_time": "2022-02-21T13:37:57.969Z"
   },
   {
    "duration": 15,
    "start_time": "2022-02-21T13:38:02.146Z"
   },
   {
    "duration": 16,
    "start_time": "2022-02-21T13:38:06.945Z"
   },
   {
    "duration": 15,
    "start_time": "2022-02-21T13:38:09.954Z"
   },
   {
    "duration": 19,
    "start_time": "2022-02-21T13:38:12.551Z"
   },
   {
    "duration": 15,
    "start_time": "2022-02-21T13:38:18.761Z"
   },
   {
    "duration": 4,
    "start_time": "2022-02-21T13:42:06.218Z"
   },
   {
    "duration": 5,
    "start_time": "2022-02-21T13:42:19.884Z"
   },
   {
    "duration": 13,
    "start_time": "2022-02-21T13:43:56.686Z"
   },
   {
    "duration": 6,
    "start_time": "2022-02-21T13:44:10.031Z"
   },
   {
    "duration": 5,
    "start_time": "2022-02-21T13:44:19.444Z"
   },
   {
    "duration": 11,
    "start_time": "2022-02-21T13:44:35.758Z"
   },
   {
    "duration": 5,
    "start_time": "2022-02-21T13:45:40.473Z"
   },
   {
    "duration": 20,
    "start_time": "2022-02-21T13:46:27.272Z"
   },
   {
    "duration": 10,
    "start_time": "2022-02-21T13:46:46.409Z"
   },
   {
    "duration": 16,
    "start_time": "2022-02-21T13:46:56.171Z"
   },
   {
    "duration": 16,
    "start_time": "2022-02-21T13:47:10.876Z"
   },
   {
    "duration": 9,
    "start_time": "2022-02-21T13:48:11.443Z"
   },
   {
    "duration": 6,
    "start_time": "2022-02-21T13:48:15.455Z"
   },
   {
    "duration": 179,
    "start_time": "2022-02-21T13:48:38.032Z"
   },
   {
    "duration": 6,
    "start_time": "2022-02-21T13:48:47.940Z"
   },
   {
    "duration": 66,
    "start_time": "2022-02-21T13:49:03.040Z"
   },
   {
    "duration": 5,
    "start_time": "2022-02-21T13:49:23.472Z"
   },
   {
    "duration": 165,
    "start_time": "2022-02-21T13:49:30.727Z"
   },
   {
    "duration": 8,
    "start_time": "2022-02-21T13:49:56.005Z"
   },
   {
    "duration": 102,
    "start_time": "2022-03-03T15:38:25.488Z"
   },
   {
    "duration": 682,
    "start_time": "2022-03-03T15:38:32.896Z"
   },
   {
    "duration": 193,
    "start_time": "2022-03-03T15:38:33.580Z"
   },
   {
    "duration": 9,
    "start_time": "2022-03-03T15:38:33.775Z"
   },
   {
    "duration": 50,
    "start_time": "2022-03-03T15:38:33.786Z"
   },
   {
    "duration": 12,
    "start_time": "2022-03-03T15:38:33.838Z"
   },
   {
    "duration": 48,
    "start_time": "2022-03-03T15:38:33.852Z"
   },
   {
    "duration": 36,
    "start_time": "2022-03-03T15:38:33.902Z"
   },
   {
    "duration": 142,
    "start_time": "2022-03-03T15:40:28.110Z"
   },
   {
    "duration": 3,
    "start_time": "2022-03-03T15:45:03.466Z"
   },
   {
    "duration": 189,
    "start_time": "2022-03-03T15:45:03.472Z"
   },
   {
    "duration": 7,
    "start_time": "2022-03-03T15:45:03.663Z"
   },
   {
    "duration": 31,
    "start_time": "2022-03-03T15:45:03.673Z"
   },
   {
    "duration": 16,
    "start_time": "2022-03-03T15:45:03.707Z"
   },
   {
    "duration": 45,
    "start_time": "2022-03-03T15:45:03.725Z"
   },
   {
    "duration": 4,
    "start_time": "2022-03-03T15:45:03.772Z"
   },
   {
    "duration": 35,
    "start_time": "2022-03-03T15:45:03.778Z"
   },
   {
    "duration": 19,
    "start_time": "2022-03-03T15:45:03.815Z"
   },
   {
    "duration": 42,
    "start_time": "2022-03-03T15:45:03.837Z"
   },
   {
    "duration": 78,
    "start_time": "2022-03-03T15:45:03.881Z"
   },
   {
    "duration": 65,
    "start_time": "2022-03-03T15:45:03.961Z"
   },
   {
    "duration": 58,
    "start_time": "2022-03-03T15:45:04.028Z"
   },
   {
    "duration": 13,
    "start_time": "2022-03-03T15:45:04.088Z"
   },
   {
    "duration": 3,
    "start_time": "2022-03-03T15:45:04.103Z"
   },
   {
    "duration": 18,
    "start_time": "2022-03-03T15:45:04.108Z"
   },
   {
    "duration": 42,
    "start_time": "2022-03-03T15:45:27.531Z"
   },
   {
    "duration": 7,
    "start_time": "2022-03-03T15:45:43.178Z"
   },
   {
    "duration": 84,
    "start_time": "2022-03-03T15:46:18.795Z"
   },
   {
    "duration": 102,
    "start_time": "2022-03-03T15:48:43.300Z"
   },
   {
    "duration": 2,
    "start_time": "2022-03-03T15:50:46.750Z"
   },
   {
    "duration": 174,
    "start_time": "2022-03-03T15:50:46.756Z"
   },
   {
    "duration": 7,
    "start_time": "2022-03-03T15:50:46.932Z"
   },
   {
    "duration": 36,
    "start_time": "2022-03-03T15:50:46.941Z"
   },
   {
    "duration": 4,
    "start_time": "2022-03-03T15:50:46.979Z"
   },
   {
    "duration": 20,
    "start_time": "2022-03-03T15:50:46.985Z"
   },
   {
    "duration": 4,
    "start_time": "2022-03-03T15:50:47.007Z"
   },
   {
    "duration": 25,
    "start_time": "2022-03-03T15:50:47.013Z"
   },
   {
    "duration": 50,
    "start_time": "2022-03-03T15:50:47.040Z"
   },
   {
    "duration": 26,
    "start_time": "2022-03-03T15:50:47.092Z"
   },
   {
    "duration": 73,
    "start_time": "2022-03-03T15:50:47.119Z"
   },
   {
    "duration": 66,
    "start_time": "2022-03-03T15:50:47.194Z"
   },
   {
    "duration": 69,
    "start_time": "2022-03-03T15:50:47.262Z"
   },
   {
    "duration": 8,
    "start_time": "2022-03-03T15:50:47.333Z"
   },
   {
    "duration": 4,
    "start_time": "2022-03-03T15:50:47.342Z"
   },
   {
    "duration": 41,
    "start_time": "2022-03-03T15:50:47.347Z"
   },
   {
    "duration": 6,
    "start_time": "2022-03-03T15:50:47.390Z"
   },
   {
    "duration": 12,
    "start_time": "2022-03-03T15:50:47.398Z"
   },
   {
    "duration": 14,
    "start_time": "2022-03-03T15:50:47.411Z"
   },
   {
    "duration": 4,
    "start_time": "2022-03-03T15:50:47.426Z"
   },
   {
    "duration": 48,
    "start_time": "2022-03-03T15:50:47.432Z"
   },
   {
    "duration": 15,
    "start_time": "2022-03-03T15:50:47.481Z"
   },
   {
    "duration": 15,
    "start_time": "2022-03-03T15:50:47.498Z"
   },
   {
    "duration": 15,
    "start_time": "2022-03-03T15:50:47.516Z"
   },
   {
    "duration": 55,
    "start_time": "2022-03-03T15:50:47.532Z"
   },
   {
    "duration": 15,
    "start_time": "2022-03-03T15:50:47.588Z"
   },
   {
    "duration": 3,
    "start_time": "2022-03-03T15:50:47.605Z"
   },
   {
    "duration": 7,
    "start_time": "2022-03-03T15:50:56.645Z"
   },
   {
    "duration": 621,
    "start_time": "2022-03-03T15:56:23.519Z"
   },
   {
    "duration": 152,
    "start_time": "2022-03-03T15:56:24.142Z"
   },
   {
    "duration": 7,
    "start_time": "2022-03-03T15:56:24.297Z"
   },
   {
    "duration": 30,
    "start_time": "2022-03-03T15:56:24.307Z"
   },
   {
    "duration": 5,
    "start_time": "2022-03-03T15:56:24.339Z"
   },
   {
    "duration": 52,
    "start_time": "2022-03-03T15:56:24.346Z"
   },
   {
    "duration": 4,
    "start_time": "2022-03-03T15:56:24.400Z"
   },
   {
    "duration": 27,
    "start_time": "2022-03-03T15:56:24.406Z"
   },
   {
    "duration": 18,
    "start_time": "2022-03-03T15:56:24.436Z"
   },
   {
    "duration": 47,
    "start_time": "2022-03-03T15:56:24.456Z"
   },
   {
    "duration": 74,
    "start_time": "2022-03-03T15:56:24.505Z"
   },
   {
    "duration": 70,
    "start_time": "2022-03-03T15:56:24.580Z"
   },
   {
    "duration": 67,
    "start_time": "2022-03-03T15:56:24.652Z"
   },
   {
    "duration": 12,
    "start_time": "2022-03-03T15:56:24.721Z"
   },
   {
    "duration": 3,
    "start_time": "2022-03-03T15:56:24.735Z"
   },
   {
    "duration": 20,
    "start_time": "2022-03-03T15:56:24.740Z"
   },
   {
    "duration": 6,
    "start_time": "2022-03-03T15:56:24.778Z"
   },
   {
    "duration": 14,
    "start_time": "2022-03-03T15:56:24.786Z"
   },
   {
    "duration": 11,
    "start_time": "2022-03-03T15:56:24.801Z"
   },
   {
    "duration": 4,
    "start_time": "2022-03-03T15:56:24.813Z"
   },
   {
    "duration": 22,
    "start_time": "2022-03-03T15:56:24.819Z"
   },
   {
    "duration": 39,
    "start_time": "2022-03-03T15:56:24.843Z"
   },
   {
    "duration": 16,
    "start_time": "2022-03-03T15:56:24.884Z"
   },
   {
    "duration": 14,
    "start_time": "2022-03-03T15:56:24.902Z"
   },
   {
    "duration": 17,
    "start_time": "2022-03-03T15:56:24.918Z"
   },
   {
    "duration": 49,
    "start_time": "2022-03-03T15:56:24.937Z"
   },
   {
    "duration": 5,
    "start_time": "2022-03-03T15:56:24.990Z"
   },
   {
    "duration": 20,
    "start_time": "2022-03-03T15:56:24.998Z"
   },
   {
    "duration": 9,
    "start_time": "2022-03-03T15:56:25.020Z"
   },
   {
    "duration": 5,
    "start_time": "2022-03-03T15:56:25.031Z"
   },
   {
    "duration": 43,
    "start_time": "2022-03-03T15:56:25.038Z"
   },
   {
    "duration": 11,
    "start_time": "2022-03-03T15:56:25.082Z"
   },
   {
    "duration": 14,
    "start_time": "2022-03-03T15:56:25.095Z"
   },
   {
    "duration": 10,
    "start_time": "2022-03-03T15:56:25.111Z"
   },
   {
    "duration": 7,
    "start_time": "2022-03-03T15:56:25.123Z"
   },
   {
    "duration": 8,
    "start_time": "2022-03-03T15:56:25.132Z"
   },
   {
    "duration": 37,
    "start_time": "2022-03-03T15:56:25.141Z"
   },
   {
    "duration": 7,
    "start_time": "2022-03-03T15:56:25.180Z"
   },
   {
    "duration": 14,
    "start_time": "2022-03-03T15:58:34.071Z"
   },
   {
    "duration": 97,
    "start_time": "2022-03-03T16:02:45.065Z"
   },
   {
    "duration": 632,
    "start_time": "2022-03-03T16:08:30.812Z"
   },
   {
    "duration": 164,
    "start_time": "2022-03-03T16:08:31.446Z"
   },
   {
    "duration": 7,
    "start_time": "2022-03-03T16:08:31.613Z"
   },
   {
    "duration": 31,
    "start_time": "2022-03-03T16:08:31.622Z"
   },
   {
    "duration": 5,
    "start_time": "2022-03-03T16:08:31.655Z"
   },
   {
    "duration": 43,
    "start_time": "2022-03-03T16:08:31.661Z"
   },
   {
    "duration": 4,
    "start_time": "2022-03-03T16:08:31.706Z"
   },
   {
    "duration": 34,
    "start_time": "2022-03-03T16:08:31.713Z"
   },
   {
    "duration": 30,
    "start_time": "2022-03-03T16:08:31.749Z"
   },
   {
    "duration": 28,
    "start_time": "2022-03-03T16:08:31.780Z"
   },
   {
    "duration": 70,
    "start_time": "2022-03-03T16:08:31.810Z"
   },
   {
    "duration": 77,
    "start_time": "2022-03-03T16:08:31.882Z"
   },
   {
    "duration": 69,
    "start_time": "2022-03-03T16:08:31.960Z"
   },
   {
    "duration": 12,
    "start_time": "2022-03-03T16:08:32.031Z"
   },
   {
    "duration": 7,
    "start_time": "2022-03-03T16:08:32.045Z"
   },
   {
    "duration": 36,
    "start_time": "2022-03-03T16:08:32.053Z"
   },
   {
    "duration": 12,
    "start_time": "2022-03-03T16:08:32.091Z"
   },
   {
    "duration": 20,
    "start_time": "2022-03-03T16:08:32.105Z"
   },
   {
    "duration": 14,
    "start_time": "2022-03-03T16:08:32.126Z"
   },
   {
    "duration": 12,
    "start_time": "2022-03-03T16:08:32.142Z"
   },
   {
    "duration": 33,
    "start_time": "2022-03-03T16:08:32.156Z"
   },
   {
    "duration": 19,
    "start_time": "2022-03-03T16:08:32.191Z"
   },
   {
    "duration": 16,
    "start_time": "2022-03-03T16:08:32.214Z"
   },
   {
    "duration": 15,
    "start_time": "2022-03-03T16:08:32.233Z"
   },
   {
    "duration": 42,
    "start_time": "2022-03-03T16:08:32.250Z"
   },
   {
    "duration": 19,
    "start_time": "2022-03-03T16:08:32.294Z"
   },
   {
    "duration": 10,
    "start_time": "2022-03-03T16:08:32.315Z"
   },
   {
    "duration": 27,
    "start_time": "2022-03-03T16:08:32.327Z"
   },
   {
    "duration": 19,
    "start_time": "2022-03-03T16:08:32.356Z"
   },
   {
    "duration": 19,
    "start_time": "2022-03-03T16:08:32.377Z"
   },
   {
    "duration": 31,
    "start_time": "2022-03-03T16:08:32.398Z"
   },
   {
    "duration": 12,
    "start_time": "2022-03-03T16:08:32.431Z"
   },
   {
    "duration": 21,
    "start_time": "2022-03-03T16:08:32.445Z"
   },
   {
    "duration": 14,
    "start_time": "2022-03-03T16:08:32.468Z"
   },
   {
    "duration": 12,
    "start_time": "2022-03-03T16:08:32.485Z"
   },
   {
    "duration": 7,
    "start_time": "2022-03-03T16:08:32.500Z"
   },
   {
    "duration": 15,
    "start_time": "2022-03-03T16:08:32.509Z"
   },
   {
    "duration": 9,
    "start_time": "2022-03-03T16:08:32.526Z"
   },
   {
    "duration": 680,
    "start_time": "2022-03-03T16:10:27.864Z"
   },
   {
    "duration": 150,
    "start_time": "2022-03-03T16:10:28.546Z"
   },
   {
    "duration": 8,
    "start_time": "2022-03-03T16:10:28.699Z"
   },
   {
    "duration": 53,
    "start_time": "2022-03-03T16:10:28.710Z"
   },
   {
    "duration": 27,
    "start_time": "2022-03-03T16:10:28.765Z"
   },
   {
    "duration": 43,
    "start_time": "2022-03-03T16:10:28.795Z"
   },
   {
    "duration": 27,
    "start_time": "2022-03-03T16:10:28.840Z"
   },
   {
    "duration": 69,
    "start_time": "2022-03-03T16:10:28.870Z"
   },
   {
    "duration": 34,
    "start_time": "2022-03-03T16:10:28.942Z"
   },
   {
    "duration": 44,
    "start_time": "2022-03-03T16:10:28.978Z"
   },
   {
    "duration": 98,
    "start_time": "2022-03-03T16:10:29.024Z"
   },
   {
    "duration": 89,
    "start_time": "2022-03-03T16:10:29.124Z"
   },
   {
    "duration": 64,
    "start_time": "2022-03-03T16:10:29.215Z"
   },
   {
    "duration": 14,
    "start_time": "2022-03-03T16:10:29.281Z"
   },
   {
    "duration": 11,
    "start_time": "2022-03-03T16:10:29.297Z"
   },
   {
    "duration": 32,
    "start_time": "2022-03-03T16:10:29.310Z"
   },
   {
    "duration": 31,
    "start_time": "2022-03-03T16:10:29.344Z"
   },
   {
    "duration": 48,
    "start_time": "2022-03-03T16:10:29.377Z"
   },
   {
    "duration": 27,
    "start_time": "2022-03-03T16:10:29.427Z"
   },
   {
    "duration": 16,
    "start_time": "2022-03-03T16:10:29.456Z"
   },
   {
    "duration": 44,
    "start_time": "2022-03-03T16:10:29.474Z"
   },
   {
    "duration": 28,
    "start_time": "2022-03-03T16:10:29.520Z"
   },
   {
    "duration": 36,
    "start_time": "2022-03-03T16:10:29.552Z"
   },
   {
    "duration": 28,
    "start_time": "2022-03-03T16:10:29.590Z"
   },
   {
    "duration": 21,
    "start_time": "2022-03-03T16:10:29.620Z"
   },
   {
    "duration": 19,
    "start_time": "2022-03-03T16:10:29.642Z"
   },
   {
    "duration": 13,
    "start_time": "2022-03-03T16:10:29.662Z"
   },
   {
    "duration": 14,
    "start_time": "2022-03-03T16:10:29.676Z"
   },
   {
    "duration": 11,
    "start_time": "2022-03-03T16:10:29.692Z"
   },
   {
    "duration": 9,
    "start_time": "2022-03-03T16:10:29.705Z"
   },
   {
    "duration": 32,
    "start_time": "2022-03-03T16:10:29.716Z"
   },
   {
    "duration": 17,
    "start_time": "2022-03-03T16:10:29.750Z"
   },
   {
    "duration": 16,
    "start_time": "2022-03-03T16:10:29.768Z"
   },
   {
    "duration": 10,
    "start_time": "2022-03-03T16:10:29.786Z"
   },
   {
    "duration": 15,
    "start_time": "2022-03-03T16:10:29.798Z"
   },
   {
    "duration": 10,
    "start_time": "2022-03-03T16:10:29.815Z"
   },
   {
    "duration": 12,
    "start_time": "2022-03-03T16:10:29.826Z"
   },
   {
    "duration": 11,
    "start_time": "2022-03-03T16:10:29.840Z"
   },
   {
    "duration": 609,
    "start_time": "2022-03-03T16:11:34.629Z"
   },
   {
    "duration": 154,
    "start_time": "2022-03-03T16:11:35.241Z"
   },
   {
    "duration": 7,
    "start_time": "2022-03-03T16:11:35.397Z"
   },
   {
    "duration": 32,
    "start_time": "2022-03-03T16:11:35.406Z"
   },
   {
    "duration": 4,
    "start_time": "2022-03-03T16:11:35.440Z"
   },
   {
    "duration": 45,
    "start_time": "2022-03-03T16:11:35.446Z"
   },
   {
    "duration": 3,
    "start_time": "2022-03-03T16:11:35.493Z"
   },
   {
    "duration": 31,
    "start_time": "2022-03-03T16:11:35.498Z"
   },
   {
    "duration": 19,
    "start_time": "2022-03-03T16:11:35.531Z"
   },
   {
    "duration": 31,
    "start_time": "2022-03-03T16:11:35.551Z"
   },
   {
    "duration": 71,
    "start_time": "2022-03-03T16:11:35.584Z"
   },
   {
    "duration": 77,
    "start_time": "2022-03-03T16:11:35.657Z"
   },
   {
    "duration": 56,
    "start_time": "2022-03-03T16:11:35.735Z"
   },
   {
    "duration": 12,
    "start_time": "2022-03-03T16:11:35.793Z"
   },
   {
    "duration": 3,
    "start_time": "2022-03-03T16:11:35.806Z"
   },
   {
    "duration": 22,
    "start_time": "2022-03-03T16:11:35.811Z"
   },
   {
    "duration": 6,
    "start_time": "2022-03-03T16:11:35.834Z"
   },
   {
    "duration": 16,
    "start_time": "2022-03-03T16:11:35.842Z"
   },
   {
    "duration": 11,
    "start_time": "2022-03-03T16:11:35.859Z"
   },
   {
    "duration": 5,
    "start_time": "2022-03-03T16:11:35.872Z"
   },
   {
    "duration": 27,
    "start_time": "2022-03-03T16:11:35.878Z"
   },
   {
    "duration": 14,
    "start_time": "2022-03-03T16:11:35.907Z"
   },
   {
    "duration": 28,
    "start_time": "2022-03-03T16:11:35.924Z"
   },
   {
    "duration": 15,
    "start_time": "2022-03-03T16:11:35.954Z"
   },
   {
    "duration": 27,
    "start_time": "2022-03-03T16:11:35.971Z"
   },
   {
    "duration": 15,
    "start_time": "2022-03-03T16:11:36.000Z"
   },
   {
    "duration": 4,
    "start_time": "2022-03-03T16:11:36.017Z"
   },
   {
    "duration": 15,
    "start_time": "2022-03-03T16:11:36.023Z"
   },
   {
    "duration": 9,
    "start_time": "2022-03-03T16:11:36.040Z"
   },
   {
    "duration": 12,
    "start_time": "2022-03-03T16:11:36.051Z"
   },
   {
    "duration": 30,
    "start_time": "2022-03-03T16:11:36.065Z"
   },
   {
    "duration": 10,
    "start_time": "2022-03-03T16:11:36.097Z"
   },
   {
    "duration": 14,
    "start_time": "2022-03-03T16:11:36.109Z"
   },
   {
    "duration": 10,
    "start_time": "2022-03-03T16:11:36.124Z"
   },
   {
    "duration": 12,
    "start_time": "2022-03-03T16:11:36.136Z"
   },
   {
    "duration": 4,
    "start_time": "2022-03-03T16:11:36.149Z"
   },
   {
    "duration": 8,
    "start_time": "2022-03-03T16:11:36.155Z"
   },
   {
    "duration": 5,
    "start_time": "2022-03-03T16:11:36.165Z"
   },
   {
    "duration": 351,
    "start_time": "2022-03-03T16:37:05.919Z"
   },
   {
    "duration": 69,
    "start_time": "2022-03-04T11:27:03.506Z"
   },
   {
    "duration": 816,
    "start_time": "2022-03-04T11:27:58.598Z"
   },
   {
    "duration": 65,
    "start_time": "2022-03-04T11:28:32.954Z"
   },
   {
    "duration": 5,
    "start_time": "2022-03-04T11:37:06.887Z"
   },
   {
    "duration": 4,
    "start_time": "2022-03-04T11:37:28.453Z"
   },
   {
    "duration": 241,
    "start_time": "2022-03-04T11:38:16.834Z"
   },
   {
    "duration": 4,
    "start_time": "2022-03-04T11:43:43.895Z"
   },
   {
    "duration": 187,
    "start_time": "2022-03-04T11:44:22.276Z"
   },
   {
    "duration": 220,
    "start_time": "2022-03-04T12:00:54.173Z"
   },
   {
    "duration": 174,
    "start_time": "2022-03-04T12:01:58.134Z"
   },
   {
    "duration": 289,
    "start_time": "2022-03-04T13:02:58.265Z"
   },
   {
    "duration": 783,
    "start_time": "2022-03-04T13:03:05.849Z"
   },
   {
    "duration": 202,
    "start_time": "2022-03-04T13:03:06.635Z"
   },
   {
    "duration": 11,
    "start_time": "2022-03-04T13:03:06.840Z"
   },
   {
    "duration": 28,
    "start_time": "2022-03-04T13:03:09.815Z"
   },
   {
    "duration": 756,
    "start_time": "2022-03-04T13:21:50.794Z"
   },
   {
    "duration": 197,
    "start_time": "2022-03-04T13:21:51.552Z"
   },
   {
    "duration": 12,
    "start_time": "2022-03-04T13:21:51.752Z"
   },
   {
    "duration": 28,
    "start_time": "2022-03-04T13:21:51.774Z"
   },
   {
    "duration": 35,
    "start_time": "2022-03-04T13:21:51.805Z"
   },
   {
    "duration": 33,
    "start_time": "2022-03-04T13:21:51.842Z"
   },
   {
    "duration": 29,
    "start_time": "2022-03-04T13:21:51.878Z"
   },
   {
    "duration": 4,
    "start_time": "2022-03-04T13:21:51.912Z"
   },
   {
    "duration": 59,
    "start_time": "2022-03-04T13:21:51.919Z"
   },
   {
    "duration": 24,
    "start_time": "2022-03-04T13:21:51.980Z"
   },
   {
    "duration": 29,
    "start_time": "2022-03-04T13:21:52.007Z"
   },
   {
    "duration": 116,
    "start_time": "2022-03-04T13:21:52.038Z"
   },
   {
    "duration": 116,
    "start_time": "2022-03-04T13:21:52.157Z"
   },
   {
    "duration": 83,
    "start_time": "2022-03-04T13:21:52.275Z"
   },
   {
    "duration": 59,
    "start_time": "2022-03-04T13:21:52.372Z"
   },
   {
    "duration": 3,
    "start_time": "2022-03-04T13:21:52.434Z"
   },
   {
    "duration": 49,
    "start_time": "2022-03-04T13:21:52.440Z"
   },
   {
    "duration": 8,
    "start_time": "2022-03-04T13:21:52.491Z"
   },
   {
    "duration": 18,
    "start_time": "2022-03-04T13:21:52.501Z"
   },
   {
    "duration": 14,
    "start_time": "2022-03-04T13:21:52.522Z"
   },
   {
    "duration": 41,
    "start_time": "2022-03-04T13:21:52.539Z"
   },
   {
    "duration": 26,
    "start_time": "2022-03-04T13:21:52.583Z"
   },
   {
    "duration": 20,
    "start_time": "2022-03-04T13:21:52.616Z"
   },
   {
    "duration": 21,
    "start_time": "2022-03-04T13:21:52.672Z"
   },
   {
    "duration": 18,
    "start_time": "2022-03-04T13:21:52.696Z"
   },
   {
    "duration": 23,
    "start_time": "2022-03-04T13:21:52.716Z"
   },
   {
    "duration": 21,
    "start_time": "2022-03-04T13:21:52.774Z"
   },
   {
    "duration": 9,
    "start_time": "2022-03-04T13:21:52.798Z"
   },
   {
    "duration": 17,
    "start_time": "2022-03-04T13:21:52.811Z"
   },
   {
    "duration": 51,
    "start_time": "2022-03-04T13:21:52.831Z"
   },
   {
    "duration": 5,
    "start_time": "2022-03-04T13:21:52.885Z"
   },
   {
    "duration": 1230,
    "start_time": "2022-03-04T13:21:52.892Z"
   },
   {
    "duration": -1278,
    "start_time": "2022-03-04T13:21:55.402Z"
   },
   {
    "duration": -1289,
    "start_time": "2022-03-04T13:21:55.415Z"
   },
   {
    "duration": -1292,
    "start_time": "2022-03-04T13:21:55.419Z"
   },
   {
    "duration": -1296,
    "start_time": "2022-03-04T13:21:55.425Z"
   },
   {
    "duration": -1306,
    "start_time": "2022-03-04T13:21:55.437Z"
   },
   {
    "duration": -1312,
    "start_time": "2022-03-04T13:21:55.444Z"
   },
   {
    "duration": -1319,
    "start_time": "2022-03-04T13:21:55.453Z"
   },
   {
    "duration": -1481,
    "start_time": "2022-03-04T13:21:55.617Z"
   },
   {
    "duration": 32,
    "start_time": "2022-03-04T13:28:07.627Z"
   },
   {
    "duration": 31,
    "start_time": "2022-03-04T13:28:10.911Z"
   },
   {
    "duration": 1140,
    "start_time": "2022-03-04T13:28:22.041Z"
   },
   {
    "duration": 33,
    "start_time": "2022-03-04T13:29:09.632Z"
   },
   {
    "duration": 6,
    "start_time": "2022-03-04T13:29:18.660Z"
   },
   {
    "duration": 38,
    "start_time": "2022-03-04T13:29:21.722Z"
   },
   {
    "duration": 5,
    "start_time": "2022-03-04T13:29:28.088Z"
   },
   {
    "duration": 31,
    "start_time": "2022-03-04T13:30:11.272Z"
   },
   {
    "duration": 1276,
    "start_time": "2022-03-04T13:30:16.554Z"
   },
   {
    "duration": 11,
    "start_time": "2022-03-04T13:32:02.075Z"
   },
   {
    "duration": 7,
    "start_time": "2022-03-04T13:32:03.260Z"
   },
   {
    "duration": 8,
    "start_time": "2022-03-04T13:32:08.634Z"
   },
   {
    "duration": 7,
    "start_time": "2022-03-04T13:32:10.939Z"
   },
   {
    "duration": 87,
    "start_time": "2022-03-04T13:35:11.552Z"
   },
   {
    "duration": 792,
    "start_time": "2022-03-04T13:40:01.474Z"
   },
   {
    "duration": 198,
    "start_time": "2022-03-04T13:40:02.269Z"
   },
   {
    "duration": 10,
    "start_time": "2022-03-04T13:40:02.473Z"
   },
   {
    "duration": 30,
    "start_time": "2022-03-04T13:40:02.486Z"
   },
   {
    "duration": 54,
    "start_time": "2022-03-04T13:40:02.519Z"
   },
   {
    "duration": 5,
    "start_time": "2022-03-04T13:40:02.576Z"
   },
   {
    "duration": 32,
    "start_time": "2022-03-04T13:40:02.583Z"
   },
   {
    "duration": 8,
    "start_time": "2022-03-04T13:40:02.619Z"
   },
   {
    "duration": 61,
    "start_time": "2022-03-04T13:40:02.630Z"
   },
   {
    "duration": 27,
    "start_time": "2022-03-04T13:40:02.694Z"
   },
   {
    "duration": 28,
    "start_time": "2022-03-04T13:40:02.724Z"
   },
   {
    "duration": 101,
    "start_time": "2022-03-04T13:40:02.774Z"
   },
   {
    "duration": 127,
    "start_time": "2022-03-04T13:40:02.878Z"
   },
   {
    "duration": 90,
    "start_time": "2022-03-04T13:40:03.008Z"
   },
   {
    "duration": 75,
    "start_time": "2022-03-04T13:40:03.100Z"
   },
   {
    "duration": 3,
    "start_time": "2022-03-04T13:40:03.178Z"
   },
   {
    "duration": 41,
    "start_time": "2022-03-04T13:40:03.184Z"
   },
   {
    "duration": 9,
    "start_time": "2022-03-04T13:40:03.228Z"
   },
   {
    "duration": 28,
    "start_time": "2022-03-04T13:40:03.239Z"
   },
   {
    "duration": 17,
    "start_time": "2022-03-04T13:40:03.274Z"
   },
   {
    "duration": 13,
    "start_time": "2022-03-04T13:40:03.294Z"
   },
   {
    "duration": 39,
    "start_time": "2022-03-04T13:40:03.310Z"
   },
   {
    "duration": 26,
    "start_time": "2022-03-04T13:40:03.354Z"
   },
   {
    "duration": 20,
    "start_time": "2022-03-04T13:40:03.383Z"
   },
   {
    "duration": 38,
    "start_time": "2022-03-04T13:40:03.405Z"
   },
   {
    "duration": 32,
    "start_time": "2022-03-04T13:40:03.445Z"
   },
   {
    "duration": 24,
    "start_time": "2022-03-04T13:40:03.479Z"
   },
   {
    "duration": 20,
    "start_time": "2022-03-04T13:40:03.506Z"
   },
   {
    "duration": 40,
    "start_time": "2022-03-04T13:40:03.529Z"
   },
   {
    "duration": 24,
    "start_time": "2022-03-04T13:40:03.572Z"
   },
   {
    "duration": 26,
    "start_time": "2022-03-04T13:40:03.599Z"
   },
   {
    "duration": 1230,
    "start_time": "2022-03-04T13:40:03.627Z"
   },
   {
    "duration": -731,
    "start_time": "2022-03-04T13:40:05.591Z"
   },
   {
    "duration": -739,
    "start_time": "2022-03-04T13:40:05.600Z"
   },
   {
    "duration": -741,
    "start_time": "2022-03-04T13:40:05.604Z"
   },
   {
    "duration": -744,
    "start_time": "2022-03-04T13:40:05.608Z"
   },
   {
    "duration": -747,
    "start_time": "2022-03-04T13:40:05.613Z"
   },
   {
    "duration": -750,
    "start_time": "2022-03-04T13:40:05.617Z"
   },
   {
    "duration": -754,
    "start_time": "2022-03-04T13:40:05.622Z"
   },
   {
    "duration": 96,
    "start_time": "2022-03-04T14:14:35.904Z"
   },
   {
    "duration": 399,
    "start_time": "2022-03-04T14:14:42.271Z"
   },
   {
    "duration": 260,
    "start_time": "2022-03-04T14:15:11.491Z"
   },
   {
    "duration": 285,
    "start_time": "2022-03-04T14:15:30.931Z"
   },
   {
    "duration": 241,
    "start_time": "2022-03-04T14:23:58.811Z"
   },
   {
    "duration": 242,
    "start_time": "2022-03-04T14:28:23.342Z"
   },
   {
    "duration": 1124,
    "start_time": "2022-03-04T14:39:12.132Z"
   },
   {
    "duration": 247,
    "start_time": "2022-03-04T14:39:16.232Z"
   },
   {
    "duration": 14,
    "start_time": "2022-03-04T14:39:20.132Z"
   },
   {
    "duration": 25,
    "start_time": "2022-03-04T14:39:25.831Z"
   },
   {
    "duration": 34,
    "start_time": "2022-03-04T14:39:30.199Z"
   },
   {
    "duration": 5,
    "start_time": "2022-03-04T14:39:39.723Z"
   },
   {
    "duration": 26,
    "start_time": "2022-03-04T14:39:44.150Z"
   },
   {
    "duration": 5,
    "start_time": "2022-03-04T14:39:46.951Z"
   },
   {
    "duration": 47,
    "start_time": "2022-03-04T14:39:51.511Z"
   },
   {
    "duration": 24,
    "start_time": "2022-03-04T14:39:56.771Z"
   },
   {
    "duration": 37,
    "start_time": "2022-03-04T14:40:02.263Z"
   },
   {
    "duration": 107,
    "start_time": "2022-03-04T14:40:06.120Z"
   },
   {
    "duration": 101,
    "start_time": "2022-03-04T14:40:08.851Z"
   },
   {
    "duration": 79,
    "start_time": "2022-03-04T14:40:13.459Z"
   },
   {
    "duration": 74,
    "start_time": "2022-03-04T14:40:15.871Z"
   },
   {
    "duration": 4,
    "start_time": "2022-03-04T14:40:34.771Z"
   },
   {
    "duration": 8,
    "start_time": "2022-03-04T14:40:46.651Z"
   },
   {
    "duration": 77,
    "start_time": "2022-03-04T14:41:27.471Z"
   },
   {
    "duration": 86,
    "start_time": "2022-03-04T14:58:19.704Z"
   },
   {
    "duration": 74,
    "start_time": "2022-03-04T14:58:28.911Z"
   },
   {
    "duration": 6,
    "start_time": "2022-03-04T15:03:51.979Z"
   },
   {
    "duration": 7,
    "start_time": "2022-03-04T15:03:57.792Z"
   },
   {
    "duration": 295,
    "start_time": "2022-03-04T15:04:07.551Z"
   },
   {
    "duration": 77,
    "start_time": "2022-03-04T15:40:22.830Z"
   },
   {
    "duration": 80,
    "start_time": "2022-03-04T15:43:43.193Z"
   },
   {
    "duration": 86,
    "start_time": "2022-03-04T16:11:48.237Z"
   },
   {
    "duration": 4,
    "start_time": "2022-03-04T16:12:32.903Z"
   },
   {
    "duration": 211,
    "start_time": "2022-03-04T16:12:32.910Z"
   },
   {
    "duration": 10,
    "start_time": "2022-03-04T16:12:33.124Z"
   },
   {
    "duration": 39,
    "start_time": "2022-03-04T16:12:33.137Z"
   },
   {
    "duration": 35,
    "start_time": "2022-03-04T16:12:33.179Z"
   },
   {
    "duration": 4,
    "start_time": "2022-03-04T16:12:33.217Z"
   },
   {
    "duration": 63,
    "start_time": "2022-03-04T16:12:33.223Z"
   },
   {
    "duration": 4,
    "start_time": "2022-03-04T16:12:33.289Z"
   },
   {
    "duration": 34,
    "start_time": "2022-03-04T16:12:33.297Z"
   },
   {
    "duration": 60,
    "start_time": "2022-03-04T16:12:33.335Z"
   },
   {
    "duration": 48,
    "start_time": "2022-03-04T16:12:33.398Z"
   },
   {
    "duration": 145,
    "start_time": "2022-03-04T16:12:33.449Z"
   },
   {
    "duration": 113,
    "start_time": "2022-03-04T16:12:33.597Z"
   },
   {
    "duration": 94,
    "start_time": "2022-03-04T16:12:33.712Z"
   },
   {
    "duration": 89,
    "start_time": "2022-03-04T16:12:33.808Z"
   },
   {
    "duration": 5,
    "start_time": "2022-03-04T16:12:33.900Z"
   },
   {
    "duration": 27,
    "start_time": "2022-03-04T16:12:33.907Z"
   },
   {
    "duration": 95,
    "start_time": "2022-03-04T16:12:33.937Z"
   },
   {
    "duration": 16,
    "start_time": "2022-03-04T16:12:34.034Z"
   },
   {
    "duration": 17,
    "start_time": "2022-03-04T16:12:34.074Z"
   },
   {
    "duration": 5,
    "start_time": "2022-03-04T16:12:35.603Z"
   },
   {
    "duration": 21,
    "start_time": "2022-03-04T16:12:45.283Z"
   },
   {
    "duration": 18,
    "start_time": "2022-03-04T16:12:45.530Z"
   },
   {
    "duration": 18,
    "start_time": "2022-03-04T16:12:46.229Z"
   },
   {
    "duration": 19,
    "start_time": "2022-03-04T16:12:47.063Z"
   },
   {
    "duration": 21,
    "start_time": "2022-03-04T16:12:47.634Z"
   },
   {
    "duration": 19,
    "start_time": "2022-03-04T16:12:48.172Z"
   },
   {
    "duration": 9,
    "start_time": "2022-03-04T16:12:52.406Z"
   },
   {
    "duration": 15,
    "start_time": "2022-03-04T16:13:14.981Z"
   },
   {
    "duration": 16,
    "start_time": "2022-03-04T16:13:15.185Z"
   },
   {
    "duration": 6,
    "start_time": "2022-03-04T16:13:20.161Z"
   },
   {
    "duration": 1212,
    "start_time": "2022-03-04T16:13:27.818Z"
   },
   {
    "duration": 39,
    "start_time": "2022-03-04T16:13:37.076Z"
   },
   {
    "duration": 1252,
    "start_time": "2022-03-04T16:14:32.919Z"
   },
   {
    "duration": 1172,
    "start_time": "2022-03-04T16:21:03.013Z"
   },
   {
    "duration": 312,
    "start_time": "2022-03-04T16:21:04.190Z"
   },
   {
    "duration": 12,
    "start_time": "2022-03-04T16:21:04.506Z"
   },
   {
    "duration": 51,
    "start_time": "2022-03-04T16:21:04.522Z"
   },
   {
    "duration": 62,
    "start_time": "2022-03-04T16:21:04.578Z"
   },
   {
    "duration": 6,
    "start_time": "2022-03-04T16:21:04.644Z"
   },
   {
    "duration": 50,
    "start_time": "2022-03-04T16:21:04.653Z"
   },
   {
    "duration": 5,
    "start_time": "2022-03-04T16:21:04.706Z"
   },
   {
    "duration": 35,
    "start_time": "2022-03-04T16:21:04.716Z"
   },
   {
    "duration": 23,
    "start_time": "2022-03-04T16:21:04.775Z"
   },
   {
    "duration": 74,
    "start_time": "2022-03-04T16:21:04.800Z"
   },
   {
    "duration": 109,
    "start_time": "2022-03-04T16:21:04.877Z"
   },
   {
    "duration": 130,
    "start_time": "2022-03-04T16:21:04.989Z"
   },
   {
    "duration": 91,
    "start_time": "2022-03-04T16:21:05.122Z"
   },
   {
    "duration": 94,
    "start_time": "2022-03-04T16:21:05.217Z"
   },
   {
    "duration": 4,
    "start_time": "2022-03-04T16:21:05.314Z"
   },
   {
    "duration": 26,
    "start_time": "2022-03-04T16:21:05.321Z"
   },
   {
    "duration": 94,
    "start_time": "2022-03-04T16:21:05.350Z"
   },
   {
    "duration": 35,
    "start_time": "2022-03-04T16:21:05.447Z"
   },
   {
    "duration": 17,
    "start_time": "2022-03-04T16:21:05.485Z"
   },
   {
    "duration": 5,
    "start_time": "2022-03-04T16:21:05.505Z"
   },
   {
    "duration": 34,
    "start_time": "2022-03-04T16:21:05.513Z"
   },
   {
    "duration": 21,
    "start_time": "2022-03-04T16:21:05.574Z"
   },
   {
    "duration": 33,
    "start_time": "2022-03-04T16:21:05.597Z"
   },
   {
    "duration": 48,
    "start_time": "2022-03-04T16:21:05.632Z"
   },
   {
    "duration": 22,
    "start_time": "2022-03-04T16:21:05.684Z"
   },
   {
    "duration": 19,
    "start_time": "2022-03-04T16:21:05.711Z"
   },
   {
    "duration": 11,
    "start_time": "2022-03-04T16:21:05.772Z"
   },
   {
    "duration": 36,
    "start_time": "2022-03-04T16:21:05.786Z"
   },
   {
    "duration": 13,
    "start_time": "2022-03-04T16:21:05.825Z"
   },
   {
    "duration": 33,
    "start_time": "2022-03-04T16:21:05.841Z"
   },
   {
    "duration": 1481,
    "start_time": "2022-03-04T16:21:05.878Z"
   },
   {
    "duration": -984,
    "start_time": "2022-03-04T16:21:08.346Z"
   },
   {
    "duration": -988,
    "start_time": "2022-03-04T16:21:08.351Z"
   },
   {
    "duration": -990,
    "start_time": "2022-03-04T16:21:08.355Z"
   },
   {
    "duration": -994,
    "start_time": "2022-03-04T16:21:08.360Z"
   },
   {
    "duration": -997,
    "start_time": "2022-03-04T16:21:08.364Z"
   },
   {
    "duration": -1000,
    "start_time": "2022-03-04T16:21:08.369Z"
   },
   {
    "duration": -1003,
    "start_time": "2022-03-04T16:21:08.373Z"
   },
   {
    "duration": 792,
    "start_time": "2022-03-04T16:23:42.704Z"
   },
   {
    "duration": 289,
    "start_time": "2022-03-04T16:23:43.499Z"
   },
   {
    "duration": 11,
    "start_time": "2022-03-04T16:23:43.791Z"
   },
   {
    "duration": 51,
    "start_time": "2022-03-04T16:23:43.805Z"
   },
   {
    "duration": 39,
    "start_time": "2022-03-04T16:23:43.859Z"
   },
   {
    "duration": 17,
    "start_time": "2022-03-04T16:23:43.900Z"
   },
   {
    "duration": 41,
    "start_time": "2022-03-04T16:23:43.920Z"
   },
   {
    "duration": 18,
    "start_time": "2022-03-04T16:23:43.964Z"
   },
   {
    "duration": 56,
    "start_time": "2022-03-04T16:23:43.986Z"
   },
   {
    "duration": 32,
    "start_time": "2022-03-04T16:23:44.045Z"
   },
   {
    "duration": 44,
    "start_time": "2022-03-04T16:23:44.080Z"
   },
   {
    "duration": 101,
    "start_time": "2022-03-04T16:23:44.126Z"
   },
   {
    "duration": 123,
    "start_time": "2022-03-04T16:23:44.230Z"
   },
   {
    "duration": 117,
    "start_time": "2022-03-04T16:23:44.356Z"
   },
   {
    "duration": 76,
    "start_time": "2022-03-04T16:23:44.476Z"
   },
   {
    "duration": 18,
    "start_time": "2022-03-04T16:23:44.555Z"
   },
   {
    "duration": 36,
    "start_time": "2022-03-04T16:23:44.576Z"
   },
   {
    "duration": 99,
    "start_time": "2022-03-04T16:23:44.615Z"
   },
   {
    "duration": 16,
    "start_time": "2022-03-04T16:23:44.716Z"
   },
   {
    "duration": 41,
    "start_time": "2022-03-04T16:23:44.735Z"
   },
   {
    "duration": 9,
    "start_time": "2022-03-04T16:23:44.780Z"
   },
   {
    "duration": 34,
    "start_time": "2022-03-04T16:23:44.792Z"
   },
   {
    "duration": 19,
    "start_time": "2022-03-04T16:23:44.832Z"
   },
   {
    "duration": 20,
    "start_time": "2022-03-04T16:23:44.874Z"
   },
   {
    "duration": 25,
    "start_time": "2022-03-04T16:23:44.897Z"
   },
   {
    "duration": 55,
    "start_time": "2022-03-04T16:23:44.924Z"
   },
   {
    "duration": 19,
    "start_time": "2022-03-04T16:23:44.982Z"
   },
   {
    "duration": 13,
    "start_time": "2022-03-04T16:23:45.004Z"
   },
   {
    "duration": 54,
    "start_time": "2022-03-04T16:23:45.020Z"
   },
   {
    "duration": 13,
    "start_time": "2022-03-04T16:23:45.076Z"
   },
   {
    "duration": 11,
    "start_time": "2022-03-04T16:23:45.092Z"
   },
   {
    "duration": 1304,
    "start_time": "2022-03-04T16:23:45.105Z"
   },
   {
    "duration": -1129,
    "start_time": "2022-03-04T16:23:47.541Z"
   },
   {
    "duration": -1136,
    "start_time": "2022-03-04T16:23:47.550Z"
   },
   {
    "duration": -1140,
    "start_time": "2022-03-04T16:23:47.555Z"
   },
   {
    "duration": -1143,
    "start_time": "2022-03-04T16:23:47.560Z"
   },
   {
    "duration": -1145,
    "start_time": "2022-03-04T16:23:47.564Z"
   },
   {
    "duration": -1149,
    "start_time": "2022-03-04T16:23:47.570Z"
   },
   {
    "duration": -1152,
    "start_time": "2022-03-04T16:23:47.574Z"
   },
   {
    "duration": 245,
    "start_time": "2022-03-05T13:34:22.009Z"
   },
   {
    "duration": 61,
    "start_time": "2022-03-05T13:48:58.932Z"
   },
   {
    "duration": 125,
    "start_time": "2022-03-05T13:49:04.450Z"
   },
   {
    "duration": 181,
    "start_time": "2022-03-05T13:50:55.571Z"
   },
   {
    "duration": 63,
    "start_time": "2022-03-05T15:37:43.751Z"
   },
   {
    "duration": 181,
    "start_time": "2022-03-05T15:47:08.410Z"
   },
   {
    "duration": 55,
    "start_time": "2022-03-05T15:48:18.210Z"
   },
   {
    "duration": 201,
    "start_time": "2022-03-05T15:50:13.258Z"
   },
   {
    "duration": 71,
    "start_time": "2022-03-05T15:59:24.803Z"
   },
   {
    "duration": 788,
    "start_time": "2022-03-05T20:18:16.251Z"
   },
   {
    "duration": 176,
    "start_time": "2022-03-05T20:18:17.041Z"
   },
   {
    "duration": 26,
    "start_time": "2022-03-05T20:18:17.220Z"
   },
   {
    "duration": 15,
    "start_time": "2022-03-05T20:18:17.249Z"
   },
   {
    "duration": 32,
    "start_time": "2022-03-05T20:18:17.267Z"
   },
   {
    "duration": 33,
    "start_time": "2022-03-05T20:18:17.301Z"
   },
   {
    "duration": 25,
    "start_time": "2022-03-05T20:18:17.337Z"
   },
   {
    "duration": 5,
    "start_time": "2022-03-05T20:18:17.366Z"
   },
   {
    "duration": 62,
    "start_time": "2022-03-05T20:18:17.375Z"
   },
   {
    "duration": 22,
    "start_time": "2022-03-05T20:18:17.440Z"
   },
   {
    "duration": 30,
    "start_time": "2022-03-05T20:18:17.465Z"
   },
   {
    "duration": 113,
    "start_time": "2022-03-05T20:18:17.497Z"
   },
   {
    "duration": 109,
    "start_time": "2022-03-05T20:18:17.612Z"
   },
   {
    "duration": 79,
    "start_time": "2022-03-05T20:18:17.724Z"
   },
   {
    "duration": 476,
    "start_time": "2022-03-05T20:18:17.805Z"
   },
   {
    "duration": -321,
    "start_time": "2022-03-05T20:18:18.605Z"
   },
   {
    "duration": -331,
    "start_time": "2022-03-05T20:18:18.616Z"
   },
   {
    "duration": -334,
    "start_time": "2022-03-05T20:18:18.621Z"
   },
   {
    "duration": -337,
    "start_time": "2022-03-05T20:18:18.625Z"
   },
   {
    "duration": -341,
    "start_time": "2022-03-05T20:18:18.631Z"
   },
   {
    "duration": -343,
    "start_time": "2022-03-05T20:18:18.635Z"
   },
   {
    "duration": -356,
    "start_time": "2022-03-05T20:18:18.649Z"
   },
   {
    "duration": -360,
    "start_time": "2022-03-05T20:18:18.655Z"
   },
   {
    "duration": -366,
    "start_time": "2022-03-05T20:18:18.662Z"
   },
   {
    "duration": -376,
    "start_time": "2022-03-05T20:18:18.673Z"
   },
   {
    "duration": -381,
    "start_time": "2022-03-05T20:18:18.680Z"
   },
   {
    "duration": -385,
    "start_time": "2022-03-05T20:18:18.685Z"
   },
   {
    "duration": -389,
    "start_time": "2022-03-05T20:18:18.691Z"
   },
   {
    "duration": -393,
    "start_time": "2022-03-05T20:18:18.696Z"
   },
   {
    "duration": -397,
    "start_time": "2022-03-05T20:18:18.701Z"
   },
   {
    "duration": -399,
    "start_time": "2022-03-05T20:18:18.705Z"
   },
   {
    "duration": -403,
    "start_time": "2022-03-05T20:18:18.710Z"
   },
   {
    "duration": -406,
    "start_time": "2022-03-05T20:18:18.714Z"
   },
   {
    "duration": -409,
    "start_time": "2022-03-05T20:18:18.719Z"
   },
   {
    "duration": -411,
    "start_time": "2022-03-05T20:18:18.723Z"
   },
   {
    "duration": -415,
    "start_time": "2022-03-05T20:18:18.728Z"
   },
   {
    "duration": -418,
    "start_time": "2022-03-05T20:18:18.732Z"
   },
   {
    "duration": -423,
    "start_time": "2022-03-05T20:18:18.739Z"
   },
   {
    "duration": -427,
    "start_time": "2022-03-05T20:18:18.745Z"
   },
   {
    "duration": 8653,
    "start_time": "2022-03-05T20:19:21.614Z"
   },
   {
    "duration": 534,
    "start_time": "2022-03-05T20:19:32.302Z"
   },
   {
    "duration": 60,
    "start_time": "2022-03-05T20:19:39.978Z"
   },
   {
    "duration": 425,
    "start_time": "2022-03-05T20:19:50.395Z"
   },
   {
    "duration": 737,
    "start_time": "2022-03-05T20:26:32.982Z"
   },
   {
    "duration": 193,
    "start_time": "2022-03-05T20:26:33.722Z"
   },
   {
    "duration": 27,
    "start_time": "2022-03-05T20:26:33.918Z"
   },
   {
    "duration": 25,
    "start_time": "2022-03-05T20:26:33.949Z"
   },
   {
    "duration": 63,
    "start_time": "2022-03-05T20:26:33.976Z"
   },
   {
    "duration": 4,
    "start_time": "2022-03-05T20:26:34.042Z"
   },
   {
    "duration": 24,
    "start_time": "2022-03-05T20:26:34.049Z"
   },
   {
    "duration": 5,
    "start_time": "2022-03-05T20:26:34.078Z"
   },
   {
    "duration": 71,
    "start_time": "2022-03-05T20:26:34.086Z"
   },
   {
    "duration": 33,
    "start_time": "2022-03-05T20:26:34.161Z"
   },
   {
    "duration": 71,
    "start_time": "2022-03-05T20:26:34.197Z"
   },
   {
    "duration": 108,
    "start_time": "2022-03-05T20:26:34.272Z"
   },
   {
    "duration": 110,
    "start_time": "2022-03-05T20:26:34.383Z"
   },
   {
    "duration": 88,
    "start_time": "2022-03-05T20:26:34.496Z"
   },
   {
    "duration": 4,
    "start_time": "2022-03-05T20:26:34.587Z"
   },
   {
    "duration": 5,
    "start_time": "2022-03-05T20:26:34.594Z"
   },
   {
    "duration": 47,
    "start_time": "2022-03-05T20:26:34.602Z"
   },
   {
    "duration": 4,
    "start_time": "2022-03-05T20:26:34.651Z"
   },
   {
    "duration": 17,
    "start_time": "2022-03-05T20:26:34.657Z"
   },
   {
    "duration": 15,
    "start_time": "2022-03-05T20:26:34.677Z"
   },
   {
    "duration": 42,
    "start_time": "2022-03-05T20:26:34.695Z"
   },
   {
    "duration": 32,
    "start_time": "2022-03-05T20:26:34.740Z"
   },
   {
    "duration": 25,
    "start_time": "2022-03-05T20:26:34.780Z"
   },
   {
    "duration": 40,
    "start_time": "2022-03-05T20:26:34.809Z"
   },
   {
    "duration": 19,
    "start_time": "2022-03-05T20:26:34.851Z"
   },
   {
    "duration": 19,
    "start_time": "2022-03-05T20:26:34.873Z"
   },
   {
    "duration": 50,
    "start_time": "2022-03-05T20:26:34.895Z"
   },
   {
    "duration": 14,
    "start_time": "2022-03-05T20:26:34.948Z"
   },
   {
    "duration": 17,
    "start_time": "2022-03-05T20:26:34.965Z"
   },
   {
    "duration": 51,
    "start_time": "2022-03-05T20:26:34.985Z"
   },
   {
    "duration": 7,
    "start_time": "2022-03-05T20:26:35.039Z"
   },
   {
    "duration": 146,
    "start_time": "2022-03-05T20:26:35.049Z"
   },
   {
    "duration": -391,
    "start_time": "2022-03-05T20:26:35.590Z"
   },
   {
    "duration": -404,
    "start_time": "2022-03-05T20:26:35.605Z"
   },
   {
    "duration": -413,
    "start_time": "2022-03-05T20:26:35.616Z"
   },
   {
    "duration": -426,
    "start_time": "2022-03-05T20:26:35.631Z"
   },
   {
    "duration": -431,
    "start_time": "2022-03-05T20:26:35.638Z"
   },
   {
    "duration": -443,
    "start_time": "2022-03-05T20:26:35.652Z"
   },
   {
    "duration": -452,
    "start_time": "2022-03-05T20:26:35.663Z"
   },
   {
    "duration": 55,
    "start_time": "2022-03-05T20:27:05.474Z"
   },
   {
    "duration": 22,
    "start_time": "2022-03-05T20:27:11.964Z"
   },
   {
    "duration": 38,
    "start_time": "2022-03-05T20:27:12.411Z"
   },
   {
    "duration": 24,
    "start_time": "2022-03-05T20:27:13.279Z"
   },
   {
    "duration": 14,
    "start_time": "2022-03-05T20:27:19.865Z"
   },
   {
    "duration": 8,
    "start_time": "2022-03-05T20:27:19.882Z"
   },
   {
    "duration": 8,
    "start_time": "2022-03-05T20:27:19.893Z"
   },
   {
    "duration": 8,
    "start_time": "2022-03-05T20:27:19.903Z"
   },
   {
    "duration": 918,
    "start_time": "2022-03-05T20:29:48.613Z"
   },
   {
    "duration": 230,
    "start_time": "2022-03-05T20:29:49.534Z"
   },
   {
    "duration": 27,
    "start_time": "2022-03-05T20:29:49.767Z"
   },
   {
    "duration": 39,
    "start_time": "2022-03-05T20:29:49.797Z"
   },
   {
    "duration": 52,
    "start_time": "2022-03-05T20:29:49.840Z"
   },
   {
    "duration": 5,
    "start_time": "2022-03-05T20:29:49.895Z"
   },
   {
    "duration": 52,
    "start_time": "2022-03-05T20:29:49.903Z"
   },
   {
    "duration": 8,
    "start_time": "2022-03-05T20:29:49.960Z"
   },
   {
    "duration": 76,
    "start_time": "2022-03-05T20:29:49.972Z"
   },
   {
    "duration": 36,
    "start_time": "2022-03-05T20:29:50.052Z"
   },
   {
    "duration": 63,
    "start_time": "2022-03-05T20:29:50.091Z"
   },
   {
    "duration": 122,
    "start_time": "2022-03-05T20:29:50.158Z"
   },
   {
    "duration": 128,
    "start_time": "2022-03-05T20:29:50.283Z"
   },
   {
    "duration": 118,
    "start_time": "2022-03-05T20:29:50.414Z"
   },
   {
    "duration": 4,
    "start_time": "2022-03-05T20:29:50.540Z"
   },
   {
    "duration": 16,
    "start_time": "2022-03-05T20:29:50.548Z"
   },
   {
    "duration": 27,
    "start_time": "2022-03-05T20:29:50.566Z"
   },
   {
    "duration": 3,
    "start_time": "2022-03-05T20:29:50.596Z"
   },
   {
    "duration": 37,
    "start_time": "2022-03-05T20:29:50.601Z"
   },
   {
    "duration": 18,
    "start_time": "2022-03-05T20:29:50.641Z"
   },
   {
    "duration": 5,
    "start_time": "2022-03-05T20:29:50.661Z"
   },
   {
    "duration": 29,
    "start_time": "2022-03-05T20:29:50.669Z"
   },
   {
    "duration": 25,
    "start_time": "2022-03-05T20:29:50.736Z"
   },
   {
    "duration": 23,
    "start_time": "2022-03-05T20:29:50.765Z"
   },
   {
    "duration": 41,
    "start_time": "2022-03-05T20:29:50.791Z"
   },
   {
    "duration": 26,
    "start_time": "2022-03-05T20:29:50.836Z"
   },
   {
    "duration": 25,
    "start_time": "2022-03-05T20:29:50.865Z"
   },
   {
    "duration": 42,
    "start_time": "2022-03-05T20:29:50.893Z"
   },
   {
    "duration": 21,
    "start_time": "2022-03-05T20:29:50.938Z"
   },
   {
    "duration": 13,
    "start_time": "2022-03-05T20:29:50.962Z"
   },
   {
    "duration": 7,
    "start_time": "2022-03-05T20:29:50.978Z"
   },
   {
    "duration": 84,
    "start_time": "2022-03-05T20:29:50.988Z"
   },
   {
    "duration": 27,
    "start_time": "2022-03-05T20:29:51.075Z"
   },
   {
    "duration": 67,
    "start_time": "2022-03-05T20:29:51.105Z"
   },
   {
    "duration": 59,
    "start_time": "2022-03-05T20:29:51.175Z"
   },
   {
    "duration": 12,
    "start_time": "2022-03-05T20:29:51.237Z"
   },
   {
    "duration": 7,
    "start_time": "2022-03-05T20:29:51.253Z"
   },
   {
    "duration": 15,
    "start_time": "2022-03-05T20:29:51.262Z"
   },
   {
    "duration": 6,
    "start_time": "2022-03-05T20:29:51.280Z"
   },
   {
    "duration": 27,
    "start_time": "2022-03-05T20:30:38.210Z"
   },
   {
    "duration": 5,
    "start_time": "2022-03-05T20:31:29.479Z"
   },
   {
    "duration": 36,
    "start_time": "2022-03-05T20:31:33.209Z"
   },
   {
    "duration": 27,
    "start_time": "2022-03-05T20:31:53.277Z"
   },
   {
    "duration": 761,
    "start_time": "2022-03-05T20:44:16.332Z"
   },
   {
    "duration": 182,
    "start_time": "2022-03-05T20:44:17.096Z"
   },
   {
    "duration": 26,
    "start_time": "2022-03-05T20:44:17.281Z"
   },
   {
    "duration": 35,
    "start_time": "2022-03-05T20:44:17.311Z"
   },
   {
    "duration": 53,
    "start_time": "2022-03-05T20:44:17.349Z"
   },
   {
    "duration": 29,
    "start_time": "2022-03-05T20:44:17.405Z"
   },
   {
    "duration": 33,
    "start_time": "2022-03-05T20:44:17.436Z"
   },
   {
    "duration": 6,
    "start_time": "2022-03-05T20:44:17.474Z"
   },
   {
    "duration": 61,
    "start_time": "2022-03-05T20:44:17.483Z"
   },
   {
    "duration": 22,
    "start_time": "2022-03-05T20:44:17.546Z"
   },
   {
    "duration": 29,
    "start_time": "2022-03-05T20:44:17.571Z"
   },
   {
    "duration": 100,
    "start_time": "2022-03-05T20:44:17.603Z"
   },
   {
    "duration": 115,
    "start_time": "2022-03-05T20:44:17.706Z"
   },
   {
    "duration": 80,
    "start_time": "2022-03-05T20:44:17.823Z"
   },
   {
    "duration": 3,
    "start_time": "2022-03-05T20:44:17.906Z"
   },
   {
    "duration": 4,
    "start_time": "2022-03-05T20:44:17.933Z"
   },
   {
    "duration": 24,
    "start_time": "2022-03-05T20:44:17.940Z"
   },
   {
    "duration": 3,
    "start_time": "2022-03-05T20:44:17.967Z"
   },
   {
    "duration": 15,
    "start_time": "2022-03-05T20:44:17.972Z"
   },
   {
    "duration": 50,
    "start_time": "2022-03-05T20:44:17.989Z"
   },
   {
    "duration": 6,
    "start_time": "2022-03-05T20:44:18.042Z"
   },
   {
    "duration": 23,
    "start_time": "2022-03-05T20:44:18.051Z"
   },
   {
    "duration": 15,
    "start_time": "2022-03-05T20:44:18.081Z"
   },
   {
    "duration": 45,
    "start_time": "2022-03-05T20:44:18.099Z"
   },
   {
    "duration": 15,
    "start_time": "2022-03-05T20:44:18.147Z"
   },
   {
    "duration": 18,
    "start_time": "2022-03-05T20:44:18.165Z"
   },
   {
    "duration": 48,
    "start_time": "2022-03-05T20:44:18.185Z"
   },
   {
    "duration": 11,
    "start_time": "2022-03-05T20:44:18.235Z"
   },
   {
    "duration": 18,
    "start_time": "2022-03-05T20:44:18.249Z"
   },
   {
    "duration": 12,
    "start_time": "2022-03-05T20:44:18.269Z"
   },
   {
    "duration": 5,
    "start_time": "2022-03-05T20:44:18.283Z"
   },
   {
    "duration": 76,
    "start_time": "2022-03-05T20:44:18.291Z"
   },
   {
    "duration": 44,
    "start_time": "2022-03-05T20:44:18.369Z"
   },
   {
    "duration": 63,
    "start_time": "2022-03-05T20:44:18.415Z"
   },
   {
    "duration": 69,
    "start_time": "2022-03-05T20:44:18.480Z"
   },
   {
    "duration": 11,
    "start_time": "2022-03-05T20:44:18.552Z"
   },
   {
    "duration": 8,
    "start_time": "2022-03-05T20:44:18.566Z"
   },
   {
    "duration": 14,
    "start_time": "2022-03-05T20:44:18.576Z"
   },
   {
    "duration": 6,
    "start_time": "2022-03-05T20:44:18.593Z"
   },
   {
    "duration": 757,
    "start_time": "2022-03-05T20:46:19.112Z"
   },
   {
    "duration": 176,
    "start_time": "2022-03-05T20:46:19.872Z"
   },
   {
    "duration": 25,
    "start_time": "2022-03-05T20:46:20.051Z"
   },
   {
    "duration": 16,
    "start_time": "2022-03-05T20:46:20.079Z"
   },
   {
    "duration": 62,
    "start_time": "2022-03-05T20:46:20.097Z"
   },
   {
    "duration": 6,
    "start_time": "2022-03-05T20:46:20.161Z"
   },
   {
    "duration": 25,
    "start_time": "2022-03-05T20:46:20.169Z"
   },
   {
    "duration": 34,
    "start_time": "2022-03-05T20:46:20.198Z"
   },
   {
    "duration": 31,
    "start_time": "2022-03-05T20:46:20.236Z"
   },
   {
    "duration": 23,
    "start_time": "2022-03-05T20:46:20.269Z"
   },
   {
    "duration": 53,
    "start_time": "2022-03-05T20:46:20.295Z"
   },
   {
    "duration": 99,
    "start_time": "2022-03-05T20:46:20.351Z"
   },
   {
    "duration": 109,
    "start_time": "2022-03-05T20:46:20.452Z"
   },
   {
    "duration": 87,
    "start_time": "2022-03-05T20:46:20.564Z"
   },
   {
    "duration": 465,
    "start_time": "2022-03-05T20:46:20.654Z"
   },
   {
    "duration": -345,
    "start_time": "2022-03-05T20:46:21.467Z"
   },
   {
    "duration": -349,
    "start_time": "2022-03-05T20:46:21.473Z"
   },
   {
    "duration": -352,
    "start_time": "2022-03-05T20:46:21.478Z"
   },
   {
    "duration": -357,
    "start_time": "2022-03-05T20:46:21.484Z"
   },
   {
    "duration": -360,
    "start_time": "2022-03-05T20:46:21.489Z"
   },
   {
    "duration": -363,
    "start_time": "2022-03-05T20:46:21.494Z"
   },
   {
    "duration": -372,
    "start_time": "2022-03-05T20:46:21.505Z"
   },
   {
    "duration": -388,
    "start_time": "2022-03-05T20:46:21.522Z"
   },
   {
    "duration": -400,
    "start_time": "2022-03-05T20:46:21.535Z"
   },
   {
    "duration": -411,
    "start_time": "2022-03-05T20:46:21.548Z"
   },
   {
    "duration": -417,
    "start_time": "2022-03-05T20:46:21.555Z"
   },
   {
    "duration": -431,
    "start_time": "2022-03-05T20:46:21.570Z"
   },
   {
    "duration": -443,
    "start_time": "2022-03-05T20:46:21.584Z"
   },
   {
    "duration": -455,
    "start_time": "2022-03-05T20:46:21.597Z"
   },
   {
    "duration": -459,
    "start_time": "2022-03-05T20:46:21.602Z"
   },
   {
    "duration": -473,
    "start_time": "2022-03-05T20:46:21.617Z"
   },
   {
    "duration": -477,
    "start_time": "2022-03-05T20:46:21.623Z"
   },
   {
    "duration": -488,
    "start_time": "2022-03-05T20:46:21.636Z"
   },
   {
    "duration": -501,
    "start_time": "2022-03-05T20:46:21.650Z"
   },
   {
    "duration": -514,
    "start_time": "2022-03-05T20:46:21.664Z"
   },
   {
    "duration": -519,
    "start_time": "2022-03-05T20:46:21.670Z"
   },
   {
    "duration": -532,
    "start_time": "2022-03-05T20:46:21.684Z"
   },
   {
    "duration": -542,
    "start_time": "2022-03-05T20:46:21.696Z"
   },
   {
    "duration": -546,
    "start_time": "2022-03-05T20:46:21.701Z"
   },
   {
    "duration": 265,
    "start_time": "2022-03-06T12:26:31.790Z"
   },
   {
    "duration": 534,
    "start_time": "2022-03-06T19:25:20.557Z"
   },
   {
    "duration": 132,
    "start_time": "2022-03-06T19:25:21.093Z"
   },
   {
    "duration": 16,
    "start_time": "2022-03-06T19:25:21.227Z"
   },
   {
    "duration": 13,
    "start_time": "2022-03-06T19:25:21.245Z"
   },
   {
    "duration": 28,
    "start_time": "2022-03-06T19:25:21.259Z"
   },
   {
    "duration": 4,
    "start_time": "2022-03-06T19:25:21.289Z"
   },
   {
    "duration": 46,
    "start_time": "2022-03-06T19:25:21.295Z"
   },
   {
    "duration": 4,
    "start_time": "2022-03-06T19:25:21.343Z"
   },
   {
    "duration": 24,
    "start_time": "2022-03-06T19:25:21.348Z"
   },
   {
    "duration": 19,
    "start_time": "2022-03-06T19:25:21.374Z"
   },
   {
    "duration": 20,
    "start_time": "2022-03-06T19:25:21.395Z"
   },
   {
    "duration": 76,
    "start_time": "2022-03-06T19:25:21.417Z"
   },
   {
    "duration": 78,
    "start_time": "2022-03-06T19:25:21.495Z"
   },
   {
    "duration": 53,
    "start_time": "2022-03-06T19:25:21.574Z"
   },
   {
    "duration": 77,
    "start_time": "2022-03-06T19:25:28.488Z"
   },
   {
    "duration": 563,
    "start_time": "2022-03-06T19:25:43.852Z"
   },
   {
    "duration": 134,
    "start_time": "2022-03-06T19:25:44.416Z"
   },
   {
    "duration": 17,
    "start_time": "2022-03-06T19:25:44.552Z"
   },
   {
    "duration": 11,
    "start_time": "2022-03-06T19:25:44.570Z"
   },
   {
    "duration": 26,
    "start_time": "2022-03-06T19:25:44.583Z"
   },
   {
    "duration": 4,
    "start_time": "2022-03-06T19:25:44.611Z"
   },
   {
    "duration": 41,
    "start_time": "2022-03-06T19:25:44.617Z"
   },
   {
    "duration": 5,
    "start_time": "2022-03-06T19:25:44.661Z"
   },
   {
    "duration": 25,
    "start_time": "2022-03-06T19:25:44.668Z"
   },
   {
    "duration": 48,
    "start_time": "2022-03-06T19:25:44.696Z"
   },
   {
    "duration": 25,
    "start_time": "2022-03-06T19:25:44.746Z"
   },
   {
    "duration": 78,
    "start_time": "2022-03-06T19:25:44.773Z"
   },
   {
    "duration": 71,
    "start_time": "2022-03-06T19:25:44.853Z"
   },
   {
    "duration": 61,
    "start_time": "2022-03-06T19:25:44.926Z"
   },
   {
    "duration": 117,
    "start_time": "2022-03-06T19:25:44.989Z"
   },
   {
    "duration": 4,
    "start_time": "2022-03-06T19:25:45.108Z"
   },
   {
    "duration": 25,
    "start_time": "2022-03-06T19:25:45.114Z"
   },
   {
    "duration": 74,
    "start_time": "2022-03-06T19:25:45.141Z"
   },
   {
    "duration": 25,
    "start_time": "2022-03-06T19:25:45.217Z"
   },
   {
    "duration": 11,
    "start_time": "2022-03-06T19:25:45.244Z"
   },
   {
    "duration": 4,
    "start_time": "2022-03-06T19:25:45.257Z"
   },
   {
    "duration": 19,
    "start_time": "2022-03-06T19:25:45.262Z"
   },
   {
    "duration": 11,
    "start_time": "2022-03-06T19:25:45.285Z"
   },
   {
    "duration": 43,
    "start_time": "2022-03-06T19:25:45.298Z"
   },
   {
    "duration": 11,
    "start_time": "2022-03-06T19:25:45.343Z"
   },
   {
    "duration": 13,
    "start_time": "2022-03-06T19:25:45.356Z"
   },
   {
    "duration": 13,
    "start_time": "2022-03-06T19:25:45.370Z"
   },
   {
    "duration": 8,
    "start_time": "2022-03-06T19:25:45.385Z"
   },
   {
    "duration": 16,
    "start_time": "2022-03-06T19:25:45.395Z"
   },
   {
    "duration": 29,
    "start_time": "2022-03-06T19:25:45.413Z"
   },
   {
    "duration": 5,
    "start_time": "2022-03-06T19:25:45.444Z"
   },
   {
    "duration": 391,
    "start_time": "2022-03-06T19:25:45.450Z"
   },
   {
    "duration": -1297,
    "start_time": "2022-03-06T19:25:47.139Z"
   },
   {
    "duration": -1341,
    "start_time": "2022-03-06T19:25:47.184Z"
   },
   {
    "duration": -1355,
    "start_time": "2022-03-06T19:25:47.199Z"
   },
   {
    "duration": -1364,
    "start_time": "2022-03-06T19:25:47.209Z"
   },
   {
    "duration": -1386,
    "start_time": "2022-03-06T19:25:47.232Z"
   },
   {
    "duration": -1396,
    "start_time": "2022-03-06T19:25:47.243Z"
   },
   {
    "duration": -1422,
    "start_time": "2022-03-06T19:25:47.270Z"
   },
   {
    "duration": 74,
    "start_time": "2022-03-06T19:39:28.431Z"
   },
   {
    "duration": 586,
    "start_time": "2022-03-06T20:04:08.942Z"
   },
   {
    "duration": 143,
    "start_time": "2022-03-06T20:04:09.530Z"
   },
   {
    "duration": 16,
    "start_time": "2022-03-06T20:04:09.675Z"
   },
   {
    "duration": 11,
    "start_time": "2022-03-06T20:04:09.693Z"
   },
   {
    "duration": 39,
    "start_time": "2022-03-06T20:04:09.706Z"
   },
   {
    "duration": 5,
    "start_time": "2022-03-06T20:04:09.746Z"
   },
   {
    "duration": 25,
    "start_time": "2022-03-06T20:04:09.753Z"
   },
   {
    "duration": 4,
    "start_time": "2022-03-06T20:04:09.780Z"
   },
   {
    "duration": 26,
    "start_time": "2022-03-06T20:04:09.786Z"
   },
   {
    "duration": 35,
    "start_time": "2022-03-06T20:04:09.814Z"
   },
   {
    "duration": 27,
    "start_time": "2022-03-06T20:04:09.851Z"
   },
   {
    "duration": 72,
    "start_time": "2022-03-06T20:04:09.880Z"
   },
   {
    "duration": 72,
    "start_time": "2022-03-06T20:04:09.954Z"
   },
   {
    "duration": 62,
    "start_time": "2022-03-06T20:04:10.028Z"
   },
   {
    "duration": 54,
    "start_time": "2022-03-06T20:04:10.091Z"
   },
   {
    "duration": 3,
    "start_time": "2022-03-06T20:04:10.147Z"
   },
   {
    "duration": 19,
    "start_time": "2022-03-06T20:04:10.151Z"
   },
   {
    "duration": 39,
    "start_time": "2022-03-06T20:04:10.171Z"
   },
   {
    "duration": 31,
    "start_time": "2022-03-06T20:04:10.212Z"
   },
   {
    "duration": 10,
    "start_time": "2022-03-06T20:04:10.245Z"
   },
   {
    "duration": 4,
    "start_time": "2022-03-06T20:04:10.256Z"
   },
   {
    "duration": 20,
    "start_time": "2022-03-06T20:04:10.261Z"
   },
   {
    "duration": 13,
    "start_time": "2022-03-06T20:04:10.284Z"
   },
   {
    "duration": 39,
    "start_time": "2022-03-06T20:04:10.299Z"
   },
   {
    "duration": 12,
    "start_time": "2022-03-06T20:04:10.340Z"
   },
   {
    "duration": 16,
    "start_time": "2022-03-06T20:04:10.353Z"
   },
   {
    "duration": 14,
    "start_time": "2022-03-06T20:04:10.370Z"
   },
   {
    "duration": 8,
    "start_time": "2022-03-06T20:04:10.385Z"
   },
   {
    "duration": 20,
    "start_time": "2022-03-06T20:04:10.394Z"
   },
   {
    "duration": 26,
    "start_time": "2022-03-06T20:04:10.416Z"
   },
   {
    "duration": 3,
    "start_time": "2022-03-06T20:04:10.444Z"
   },
   {
    "duration": 379,
    "start_time": "2022-03-06T20:04:10.449Z"
   },
   {
    "duration": -1282,
    "start_time": "2022-03-06T20:04:12.112Z"
   },
   {
    "duration": -1290,
    "start_time": "2022-03-06T20:04:12.121Z"
   },
   {
    "duration": -1321,
    "start_time": "2022-03-06T20:04:12.153Z"
   },
   {
    "duration": -1328,
    "start_time": "2022-03-06T20:04:12.162Z"
   },
   {
    "duration": -1336,
    "start_time": "2022-03-06T20:04:12.171Z"
   },
   {
    "duration": -1350,
    "start_time": "2022-03-06T20:04:12.186Z"
   },
   {
    "duration": -1356,
    "start_time": "2022-03-06T20:04:12.193Z"
   },
   {
    "duration": 615,
    "start_time": "2022-03-06T20:09:08.083Z"
   },
   {
    "duration": 148,
    "start_time": "2022-03-06T20:09:08.700Z"
   },
   {
    "duration": 20,
    "start_time": "2022-03-06T20:09:08.852Z"
   },
   {
    "duration": 10,
    "start_time": "2022-03-06T20:09:08.874Z"
   },
   {
    "duration": 38,
    "start_time": "2022-03-06T20:09:08.886Z"
   },
   {
    "duration": 7,
    "start_time": "2022-03-06T20:09:08.939Z"
   },
   {
    "duration": 35,
    "start_time": "2022-03-06T20:09:08.948Z"
   },
   {
    "duration": 7,
    "start_time": "2022-03-06T20:09:08.986Z"
   },
   {
    "duration": 26,
    "start_time": "2022-03-06T20:09:08.995Z"
   },
   {
    "duration": 47,
    "start_time": "2022-03-06T20:09:09.022Z"
   },
   {
    "duration": 23,
    "start_time": "2022-03-06T20:09:09.071Z"
   },
   {
    "duration": 94,
    "start_time": "2022-03-06T20:09:09.095Z"
   },
   {
    "duration": 98,
    "start_time": "2022-03-06T20:09:09.191Z"
   },
   {
    "duration": 66,
    "start_time": "2022-03-06T20:09:09.290Z"
   },
   {
    "duration": 46,
    "start_time": "2022-03-06T20:09:09.359Z"
   },
   {
    "duration": 3,
    "start_time": "2022-03-06T20:09:09.407Z"
   },
   {
    "duration": 54,
    "start_time": "2022-03-06T20:09:09.412Z"
   },
   {
    "duration": 43,
    "start_time": "2022-03-06T20:09:09.468Z"
   },
   {
    "duration": 27,
    "start_time": "2022-03-06T20:09:09.512Z"
   },
   {
    "duration": 21,
    "start_time": "2022-03-06T20:09:09.542Z"
   },
   {
    "duration": 3,
    "start_time": "2022-03-06T20:09:09.565Z"
   },
   {
    "duration": 19,
    "start_time": "2022-03-06T20:09:09.570Z"
   },
   {
    "duration": 44,
    "start_time": "2022-03-06T20:09:09.594Z"
   },
   {
    "duration": 23,
    "start_time": "2022-03-06T20:09:09.641Z"
   },
   {
    "duration": 13,
    "start_time": "2022-03-06T20:09:09.666Z"
   },
   {
    "duration": 15,
    "start_time": "2022-03-06T20:09:09.681Z"
   },
   {
    "duration": 13,
    "start_time": "2022-03-06T20:09:09.697Z"
   },
   {
    "duration": 35,
    "start_time": "2022-03-06T20:09:09.711Z"
   },
   {
    "duration": 21,
    "start_time": "2022-03-06T20:09:09.749Z"
   },
   {
    "duration": 16,
    "start_time": "2022-03-06T20:09:09.772Z"
   },
   {
    "duration": 4,
    "start_time": "2022-03-06T20:09:09.790Z"
   },
   {
    "duration": 422,
    "start_time": "2022-03-06T20:09:09.795Z"
   },
   {
    "duration": -1098,
    "start_time": "2022-03-06T20:09:11.317Z"
   },
   {
    "duration": -1107,
    "start_time": "2022-03-06T20:09:11.328Z"
   },
   {
    "duration": -1115,
    "start_time": "2022-03-06T20:09:11.337Z"
   },
   {
    "duration": -1123,
    "start_time": "2022-03-06T20:09:11.346Z"
   },
   {
    "duration": -1128,
    "start_time": "2022-03-06T20:09:11.353Z"
   },
   {
    "duration": -1136,
    "start_time": "2022-03-06T20:09:11.362Z"
   },
   {
    "duration": -1143,
    "start_time": "2022-03-06T20:09:11.371Z"
   },
   {
    "duration": 7,
    "start_time": "2022-03-08T14:40:34.529Z"
   },
   {
    "duration": 5,
    "start_time": "2022-03-08T14:40:38.237Z"
   },
   {
    "duration": 81,
    "start_time": "2022-03-08T14:41:31.807Z"
   },
   {
    "duration": 80,
    "start_time": "2022-03-08T14:41:33.686Z"
   },
   {
    "duration": 710,
    "start_time": "2022-03-09T10:27:39.215Z"
   },
   {
    "duration": 185,
    "start_time": "2022-03-09T10:27:39.928Z"
   },
   {
    "duration": 26,
    "start_time": "2022-03-09T10:27:40.116Z"
   },
   {
    "duration": 15,
    "start_time": "2022-03-09T10:27:40.145Z"
   },
   {
    "duration": 48,
    "start_time": "2022-03-09T10:27:40.162Z"
   },
   {
    "duration": 5,
    "start_time": "2022-03-09T10:27:40.212Z"
   },
   {
    "duration": 26,
    "start_time": "2022-03-09T10:27:40.219Z"
   },
   {
    "duration": 5,
    "start_time": "2022-03-09T10:27:40.249Z"
   },
   {
    "duration": 30,
    "start_time": "2022-03-09T10:27:40.288Z"
   },
   {
    "duration": 22,
    "start_time": "2022-03-09T10:27:40.321Z"
   },
   {
    "duration": 59,
    "start_time": "2022-03-09T10:27:40.345Z"
   },
   {
    "duration": 103,
    "start_time": "2022-03-09T10:27:40.407Z"
   },
   {
    "duration": 111,
    "start_time": "2022-03-09T10:27:40.513Z"
   },
   {
    "duration": 83,
    "start_time": "2022-03-09T10:27:40.627Z"
   },
   {
    "duration": 58,
    "start_time": "2022-03-09T10:27:40.713Z"
   },
   {
    "duration": 4,
    "start_time": "2022-03-09T10:27:40.786Z"
   },
   {
    "duration": 26,
    "start_time": "2022-03-09T10:27:40.793Z"
   },
   {
    "duration": 75,
    "start_time": "2022-03-09T10:27:40.821Z"
   },
   {
    "duration": 13,
    "start_time": "2022-03-09T10:27:40.899Z"
   },
   {
    "duration": 12,
    "start_time": "2022-03-09T10:27:40.915Z"
   },
   {
    "duration": 5,
    "start_time": "2022-03-09T10:27:40.930Z"
   },
   {
    "duration": 56,
    "start_time": "2022-03-09T10:27:40.938Z"
   },
   {
    "duration": 16,
    "start_time": "2022-03-09T10:27:40.999Z"
   },
   {
    "duration": 28,
    "start_time": "2022-03-09T10:27:41.018Z"
   },
   {
    "duration": 42,
    "start_time": "2022-03-09T10:27:41.048Z"
   },
   {
    "duration": 31,
    "start_time": "2022-03-09T10:27:41.093Z"
   },
   {
    "duration": 24,
    "start_time": "2022-03-09T10:27:41.126Z"
   },
   {
    "duration": 22,
    "start_time": "2022-03-09T10:27:41.152Z"
   },
   {
    "duration": 19,
    "start_time": "2022-03-09T10:27:41.176Z"
   },
   {
    "duration": 22,
    "start_time": "2022-03-09T10:27:41.197Z"
   },
   {
    "duration": 5,
    "start_time": "2022-03-09T10:27:44.856Z"
   },
   {
    "duration": 315,
    "start_time": "2022-03-09T10:27:50.382Z"
   },
   {
    "duration": 6,
    "start_time": "2022-03-09T10:28:54.709Z"
   },
   {
    "duration": 26,
    "start_time": "2022-03-09T10:28:58.946Z"
   },
   {
    "duration": 18,
    "start_time": "2022-03-09T10:29:04.341Z"
   },
   {
    "duration": 6,
    "start_time": "2022-03-09T10:30:47.944Z"
   },
   {
    "duration": 25,
    "start_time": "2022-03-09T10:30:54.709Z"
   },
   {
    "duration": 17,
    "start_time": "2022-03-09T10:30:57.258Z"
   },
   {
    "duration": 23,
    "start_time": "2022-03-09T10:31:34.500Z"
   },
   {
    "duration": 16,
    "start_time": "2022-03-09T10:31:35.018Z"
   },
   {
    "duration": 10,
    "start_time": "2022-03-09T10:31:49.448Z"
   },
   {
    "duration": 7,
    "start_time": "2022-03-09T10:31:50.550Z"
   },
   {
    "duration": 8,
    "start_time": "2022-03-09T10:32:37.589Z"
   },
   {
    "duration": 6,
    "start_time": "2022-03-09T10:32:38.331Z"
   },
   {
    "duration": 117,
    "start_time": "2022-03-09T10:52:23.560Z"
   },
   {
    "duration": 6,
    "start_time": "2022-03-09T11:06:09.605Z"
   },
   {
    "duration": 733,
    "start_time": "2022-03-09T11:20:42.046Z"
   },
   {
    "duration": 180,
    "start_time": "2022-03-09T11:20:42.782Z"
   },
   {
    "duration": 32,
    "start_time": "2022-03-09T11:20:42.966Z"
   },
   {
    "duration": 15,
    "start_time": "2022-03-09T11:20:43.001Z"
   },
   {
    "duration": 34,
    "start_time": "2022-03-09T11:20:43.019Z"
   },
   {
    "duration": 32,
    "start_time": "2022-03-09T11:20:43.056Z"
   },
   {
    "duration": 26,
    "start_time": "2022-03-09T11:20:43.091Z"
   },
   {
    "duration": 8,
    "start_time": "2022-03-09T11:20:43.121Z"
   },
   {
    "duration": 56,
    "start_time": "2022-03-09T11:20:43.132Z"
   },
   {
    "duration": 21,
    "start_time": "2022-03-09T11:20:43.192Z"
   },
   {
    "duration": 30,
    "start_time": "2022-03-09T11:20:43.216Z"
   },
   {
    "duration": 110,
    "start_time": "2022-03-09T11:20:43.248Z"
   },
   {
    "duration": 113,
    "start_time": "2022-03-09T11:20:43.360Z"
   },
   {
    "duration": 78,
    "start_time": "2022-03-09T11:20:43.475Z"
   },
   {
    "duration": 65,
    "start_time": "2022-03-09T11:20:43.555Z"
   },
   {
    "duration": 3,
    "start_time": "2022-03-09T11:20:43.623Z"
   },
   {
    "duration": 24,
    "start_time": "2022-03-09T11:20:43.629Z"
   },
   {
    "duration": 87,
    "start_time": "2022-03-09T11:20:43.656Z"
   },
   {
    "duration": 14,
    "start_time": "2022-03-09T11:20:43.745Z"
   },
   {
    "duration": 33,
    "start_time": "2022-03-09T11:20:43.762Z"
   },
   {
    "duration": 5,
    "start_time": "2022-03-09T11:20:43.798Z"
   },
   {
    "duration": 25,
    "start_time": "2022-03-09T11:20:43.805Z"
   },
   {
    "duration": 15,
    "start_time": "2022-03-09T11:20:43.836Z"
   },
   {
    "duration": 43,
    "start_time": "2022-03-09T11:20:43.854Z"
   },
   {
    "duration": 17,
    "start_time": "2022-03-09T11:20:43.899Z"
   },
   {
    "duration": 19,
    "start_time": "2022-03-09T11:20:43.918Z"
   },
   {
    "duration": 18,
    "start_time": "2022-03-09T11:20:43.940Z"
   },
   {
    "duration": 37,
    "start_time": "2022-03-09T11:20:43.960Z"
   },
   {
    "duration": 18,
    "start_time": "2022-03-09T11:20:44.000Z"
   },
   {
    "duration": 14,
    "start_time": "2022-03-09T11:20:44.020Z"
   },
   {
    "duration": 52,
    "start_time": "2022-03-09T11:20:44.037Z"
   },
   {
    "duration": 30,
    "start_time": "2022-03-09T11:20:44.092Z"
   },
   {
    "duration": 17,
    "start_time": "2022-03-09T11:20:44.124Z"
   },
   {
    "duration": 44,
    "start_time": "2022-03-09T11:20:44.144Z"
   },
   {
    "duration": 16,
    "start_time": "2022-03-09T11:20:44.191Z"
   },
   {
    "duration": 10,
    "start_time": "2022-03-09T11:20:44.210Z"
   },
   {
    "duration": 19,
    "start_time": "2022-03-09T11:20:44.222Z"
   },
   {
    "duration": 18,
    "start_time": "2022-03-09T11:20:44.243Z"
   },
   {
    "duration": 26,
    "start_time": "2022-03-09T11:20:44.263Z"
   },
   {
    "duration": 751,
    "start_time": "2022-03-09T11:36:42.800Z"
   },
   {
    "duration": 175,
    "start_time": "2022-03-09T11:36:43.554Z"
   },
   {
    "duration": 33,
    "start_time": "2022-03-09T11:36:43.732Z"
   },
   {
    "duration": 16,
    "start_time": "2022-03-09T11:36:43.769Z"
   },
   {
    "duration": 66,
    "start_time": "2022-03-09T11:36:43.788Z"
   },
   {
    "duration": 6,
    "start_time": "2022-03-09T11:36:43.857Z"
   },
   {
    "duration": 31,
    "start_time": "2022-03-09T11:36:43.865Z"
   },
   {
    "duration": 7,
    "start_time": "2022-03-09T11:36:43.899Z"
   },
   {
    "duration": 56,
    "start_time": "2022-03-09T11:36:43.911Z"
   },
   {
    "duration": 34,
    "start_time": "2022-03-09T11:36:43.971Z"
   },
   {
    "duration": 70,
    "start_time": "2022-03-09T11:36:44.008Z"
   },
   {
    "duration": 132,
    "start_time": "2022-03-09T11:36:44.081Z"
   },
   {
    "duration": 115,
    "start_time": "2022-03-09T11:36:44.216Z"
   },
   {
    "duration": 82,
    "start_time": "2022-03-09T11:36:44.333Z"
   },
   {
    "duration": 63,
    "start_time": "2022-03-09T11:36:44.417Z"
   },
   {
    "duration": 5,
    "start_time": "2022-03-09T11:36:44.483Z"
   },
   {
    "duration": 24,
    "start_time": "2022-03-09T11:36:44.491Z"
   },
   {
    "duration": 85,
    "start_time": "2022-03-09T11:36:44.517Z"
   },
   {
    "duration": 15,
    "start_time": "2022-03-09T11:36:44.604Z"
   },
   {
    "duration": 41,
    "start_time": "2022-03-09T11:36:44.621Z"
   },
   {
    "duration": 5,
    "start_time": "2022-03-09T11:36:44.664Z"
   },
   {
    "duration": 25,
    "start_time": "2022-03-09T11:36:44.671Z"
   },
   {
    "duration": 17,
    "start_time": "2022-03-09T11:36:44.698Z"
   },
   {
    "duration": 47,
    "start_time": "2022-03-09T11:36:44.717Z"
   },
   {
    "duration": 18,
    "start_time": "2022-03-09T11:36:44.766Z"
   },
   {
    "duration": 18,
    "start_time": "2022-03-09T11:36:44.786Z"
   },
   {
    "duration": 44,
    "start_time": "2022-03-09T11:36:44.808Z"
   },
   {
    "duration": 12,
    "start_time": "2022-03-09T11:36:44.855Z"
   },
   {
    "duration": 17,
    "start_time": "2022-03-09T11:36:44.869Z"
   },
   {
    "duration": 12,
    "start_time": "2022-03-09T11:36:44.888Z"
   },
   {
    "duration": 6,
    "start_time": "2022-03-09T11:36:44.902Z"
   },
   {
    "duration": 73,
    "start_time": "2022-03-09T11:36:44.910Z"
   },
   {
    "duration": 18,
    "start_time": "2022-03-09T11:36:44.985Z"
   },
   {
    "duration": 53,
    "start_time": "2022-03-09T11:36:45.006Z"
   },
   {
    "duration": 17,
    "start_time": "2022-03-09T11:36:45.062Z"
   },
   {
    "duration": 16,
    "start_time": "2022-03-09T11:36:45.082Z"
   },
   {
    "duration": 6,
    "start_time": "2022-03-09T11:36:45.101Z"
   },
   {
    "duration": 47,
    "start_time": "2022-03-09T11:36:45.109Z"
   },
   {
    "duration": 6,
    "start_time": "2022-03-09T11:36:45.158Z"
   },
   {
    "duration": 57,
    "start_time": "2022-03-09T11:41:06.616Z"
   },
   {
    "duration": 57,
    "start_time": "2022-03-09T11:41:09.487Z"
   },
   {
    "duration": 55,
    "start_time": "2022-03-09T11:43:33.969Z"
   },
   {
    "duration": 55,
    "start_time": "2022-03-09T11:44:13.435Z"
   },
   {
    "duration": 770,
    "start_time": "2022-03-09T11:52:21.241Z"
   },
   {
    "duration": 190,
    "start_time": "2022-03-09T11:52:22.014Z"
   },
   {
    "duration": 24,
    "start_time": "2022-03-09T11:52:22.208Z"
   },
   {
    "duration": 18,
    "start_time": "2022-03-09T11:52:22.235Z"
   },
   {
    "duration": 70,
    "start_time": "2022-03-09T11:52:22.255Z"
   },
   {
    "duration": 7,
    "start_time": "2022-03-09T11:52:22.328Z"
   },
   {
    "duration": 50,
    "start_time": "2022-03-09T11:52:22.337Z"
   },
   {
    "duration": 5,
    "start_time": "2022-03-09T11:52:22.391Z"
   },
   {
    "duration": 38,
    "start_time": "2022-03-09T11:52:22.398Z"
   },
   {
    "duration": 51,
    "start_time": "2022-03-09T11:52:22.438Z"
   },
   {
    "duration": 31,
    "start_time": "2022-03-09T11:52:22.491Z"
   },
   {
    "duration": 106,
    "start_time": "2022-03-09T11:52:22.525Z"
   },
   {
    "duration": 109,
    "start_time": "2022-03-09T11:52:22.634Z"
   },
   {
    "duration": 82,
    "start_time": "2022-03-09T11:52:22.745Z"
   },
   {
    "duration": 70,
    "start_time": "2022-03-09T11:52:22.830Z"
   },
   {
    "duration": 4,
    "start_time": "2022-03-09T11:52:22.902Z"
   },
   {
    "duration": 39,
    "start_time": "2022-03-09T11:52:22.908Z"
   },
   {
    "duration": 122,
    "start_time": "2022-03-09T11:52:22.950Z"
   },
   {
    "duration": 27,
    "start_time": "2022-03-09T11:52:23.075Z"
   },
   {
    "duration": 19,
    "start_time": "2022-03-09T11:52:23.105Z"
   },
   {
    "duration": 5,
    "start_time": "2022-03-09T11:52:23.126Z"
   },
   {
    "duration": 65,
    "start_time": "2022-03-09T11:52:23.133Z"
   },
   {
    "duration": 17,
    "start_time": "2022-03-09T11:52:23.203Z"
   },
   {
    "duration": 20,
    "start_time": "2022-03-09T11:52:23.223Z"
   },
   {
    "duration": 55,
    "start_time": "2022-03-09T11:52:23.245Z"
   },
   {
    "duration": 22,
    "start_time": "2022-03-09T11:52:23.302Z"
   },
   {
    "duration": 16,
    "start_time": "2022-03-09T11:52:23.327Z"
   },
   {
    "duration": 50,
    "start_time": "2022-03-09T11:52:23.346Z"
   },
   {
    "duration": 15,
    "start_time": "2022-03-09T11:52:23.399Z"
   },
   {
    "duration": 11,
    "start_time": "2022-03-09T11:52:23.416Z"
   },
   {
    "duration": 7,
    "start_time": "2022-03-09T11:52:23.430Z"
   },
   {
    "duration": 122,
    "start_time": "2022-03-09T11:52:23.441Z"
   },
   {
    "duration": -959,
    "start_time": "2022-03-09T11:52:24.524Z"
   },
   {
    "duration": -967,
    "start_time": "2022-03-09T11:52:24.534Z"
   },
   {
    "duration": -1006,
    "start_time": "2022-03-09T11:52:24.575Z"
   },
   {
    "duration": -1013,
    "start_time": "2022-03-09T11:52:24.584Z"
   },
   {
    "duration": -1021,
    "start_time": "2022-03-09T11:52:24.594Z"
   },
   {
    "duration": -1028,
    "start_time": "2022-03-09T11:52:24.603Z"
   },
   {
    "duration": -1034,
    "start_time": "2022-03-09T11:52:24.612Z"
   },
   {
    "duration": -1042,
    "start_time": "2022-03-09T11:52:24.622Z"
   }
  ],
  "colab": {
   "collapsed_sections": [
    "E0vqbgi9ay0H",
    "VUC88oWjTJw2"
   ],
   "name": "yandex_music_project_2021.2.ipynb",
   "provenance": []
  },
  "kernelspec": {
   "display_name": "Python 3 (ipykernel)",
   "language": "python",
   "name": "python3"
  },
  "language_info": {
   "codemirror_mode": {
    "name": "ipython",
    "version": 3
   },
   "file_extension": ".py",
   "mimetype": "text/x-python",
   "name": "python",
   "nbconvert_exporter": "python",
   "pygments_lexer": "ipython3",
   "version": "3.9.5"
  },
  "toc": {
   "base_numbering": 1,
   "nav_menu": {},
   "number_sections": true,
   "sideBar": true,
   "skip_h1_title": true,
   "title_cell": "Table of Contents",
   "title_sidebar": "Contents",
   "toc_cell": false,
   "toc_position": {
    "height": "calc(100% - 180px)",
    "left": "10px",
    "top": "150px",
    "width": "289.6px"
   },
   "toc_section_display": true,
   "toc_window_display": true
  }
 },
 "nbformat": 4,
 "nbformat_minor": 1
}
